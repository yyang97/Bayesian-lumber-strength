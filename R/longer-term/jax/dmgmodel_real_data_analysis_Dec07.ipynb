{
 "cells": [
  {
   "cell_type": "markdown",
   "id": "99771c14",
   "metadata": {},
   "source": [
    "# Damage model \n",
    "The original model is \n",
    "\n",
    "\\begin{equation}\\label{eq: original model}\n",
    "y^*  = y \\cdot I\\{c \\cdot y > l\\} + \\alpha \\cdot y \\cdot I\\{c \\cdot y < l\\}\n",
    "\\end{equation}\n",
    "\n",
    "\n",
    "\n",
    "# Smooth function\n",
    "\n",
    "Note that we have the indicator function in the model we might consider the smooth function:\n",
    "\\begin{equation}\\label{eq: trans function}\n",
    "S(x;s) = \\frac{1}{1 + \\exp(-s \\cdot x)}\n",
    "\\end{equation},\n",
    "where $s$ is the smoothing hyper-parameter to control the smoothness. "
   ]
  },
  {
   "cell_type": "markdown",
   "id": "7eb933ea",
   "metadata": {},
   "source": [
    "Then the model becomes \n",
    "$$\n",
    "y^*  = y \\cdot \\frac{1}{1 + \\exp(-s\\cdot(cy-l))} + \\alpha \\cdot y \\cdot \\frac{1}{1 + \\exp(-s\\cdot(l-cy))}\n",
    "$$"
   ]
  },
  {
   "cell_type": "markdown",
   "id": "3cca7c62",
   "metadata": {},
   "source": [
    "We have $y \\geq y^*$.\n",
    "\n",
    "The lumber have three groups:\n",
    "\n",
    "- Group 1: $y <l$, $y^* < l$, i.e., $y^* <y < l$. The lumber pieces are broken blow the proof loading.\n",
    "- Group 2: $y >l$, $y^* < l$, i.e. $y^*<l<y$. The lumber pieces are broken during the proof loading process. This groups we only knows how many pieces. \n",
    "\n",
    "update: this group should be $0<y^*<l<y$. So $F_y(h^{-1}(l)) - F_y(h^{-1}(\\max(0,h^{-1}(l)))$\n",
    "- Group 3: $y >l$, $y^* > l$, i.e. $l<y^*<y$. The lumber pieces survived in the proof-loading. And then we destruct them to test their strength.\n",
    "\n",
    "\n",
    "# The PDF calculation \n",
    "\n",
    "Given $Y \\sim N(\\mu, \\sigma^2)$, $Y^* = h(Y)$. Then the pdf of $Y^*$,\n",
    "$$\n",
    "f_{Y^*}(y^*) = f_{Y}(h^{-1}(y^*))|\\frac{d}{dy^*}h^{-1}(y^*)|,\n",
    "$$\n",
    "where $f_Y()$ is the pdf of $Y$, i.e., normal. \n",
    "\n",
    "Following this, We need the numerical function of $h^{-1}(y^*)$, and its numerical gradient $\\frac{d}{dy^*}h^{-1}(y^*)$. (The analytical form doesn't seem available.)"
   ]
  },
  {
   "cell_type": "markdown",
   "id": "0dbcc1a1-7850-4a9b-aca9-1517f6ea7ff4",
   "metadata": {},
   "source": [
    "# The range of alpha"
   ]
  },
  {
   "cell_type": "markdown",
   "id": "e6e450c6-958d-4f16-83e1-2d4122d0a054",
   "metadata": {},
   "source": [
    "For the model \n",
    "\n",
    "\\begin{equation}\n",
    "y^*  = y \\cdot I\\{c \\cdot y > l\\} + \\alpha \\cdot y \\cdot I\\{c \\cdot y < l\\}.\n",
    "\\end{equation}\n",
    "\n",
    "What happened if $\\alpha < c$?\n",
    "\n",
    "then $\\alpha*y < c*y <l $. It means that all damaged pieces are censored. So we don't have damaged pieces. The remaining pieces in group 3 are all undamaged. Then we can only have the range of $\\alpha$ but no specific estimate.\n",
    "\n",
    "In bivarite dataset, we don't have this problem because we have $c*x$ and $\\alpha*y$."
   ]
  },
  {
   "cell_type": "code",
   "execution_count": 1,
   "id": "51ee4f6b",
   "metadata": {},
   "outputs": [],
   "source": [
    "import jax\n",
    "import jaxopt\n",
    "import jax.numpy as jnp\n",
    "import pyreadr\n",
    "import projplot as pjp\n",
    "import pandas\n",
    "import numpy as np\n",
    "from IPython.core.interactiveshell import InteractiveShell\n",
    "InteractiveShell.ast_node_interactivity = \"all\"\n",
    "import scipy"
   ]
  },
  {
   "cell_type": "code",
   "execution_count": 2,
   "id": "daed985c",
   "metadata": {},
   "outputs": [],
   "source": [
    "@jax.jit\n",
    "\n",
    "def indicator(x):\n",
    "    return(jnp.select([x>0,x<=0],[1,0]))\n",
    "\n",
    "def logit(x):\n",
    "    return(jnp.log(x/(1-x)))\n",
    "\n",
    "\n",
    "def expit(x):\n",
    "    return 1/(1+jnp.exp(-x))\n",
    "\n",
    "def exp_smooth(x):\n",
    "    return(jnp.select(\n",
    "    [x >0, x<=0],[jnp.exp(-1/(x+ 0.001)),0]))\n",
    "\n",
    "def g_smooth(x):\n",
    "    return(exp_smooth(x)/(exp_smooth(x) + exp_smooth(1-x)))\n",
    "\n",
    "def sigmoid(x, s):\n",
    "    # x = jnp.array(x)\n",
    "    # a = jnp.array(a)\n",
    "    return 0.5 * (jnp.tanh(x * s / 2) + 1)\n",
    "\n",
    "def dmgmodel_ind(y,alpha,l,c):\n",
    "    return(y*indicator(c*y-l) + alpha*y*indicator(l-c*y))\n",
    "\n",
    "\n",
    "def dmgmodel_py(y,alpha,l,c,s):\n",
    "    #return(y*jax.scipy.stats.norm.cdf(c*y-l) + alpha*y*jax.scipy.stats.norm.cdf(l-c*y))\n",
    "    return(y*sigmoid(c*y-l,s) + alpha*y*sigmoid(l-c*y,s))\n",
    "\n",
    "    #return(y*g_smooth(c*y-l) + alpha*y*g_smooth(l-c*y))\n",
    "\n",
    "def dmgmodel_root_py(y,alpha,l,c,s,ystar):\n",
    "    return(dmgmodel_py(y,alpha,l,c,s) - ystar)\n",
    "\n",
    "\n",
    "\n",
    "# def dmginverse_py(ystar,alpha,l,c,s):\n",
    "#     ystar = jnp.array(ystar)\n",
    "#     bisec = jaxopt.Bisection(\n",
    "#         optimality_fun=dmgmodel_root_py,\n",
    "#         lower = 0,\n",
    "#         upper = 10000,\n",
    "#         check_bracket = False)\n",
    "#     return(bisec.run(alpha = alpha,l = l, c= c ,s = s,ystar = ystar).params)\n",
    "\n",
    "\n",
    "def dmginverse_py(ystar,alpha,l,c,s):\n",
    "    \"\"\"\n",
    "    Calculate the root of `Teqn()`.\n",
    "    \"\"\"\n",
    "    def root_fun(y):\n",
    "        return dmgmodel_root_py(y = y,alpha = alpha,l = l,\n",
    "                                c = c,s = s,ystar = ystar)\n",
    "\n",
    "    def solve(root_fun, Ts_init):\n",
    "        bisec = jaxopt.Bisection(\n",
    "            optimality_fun=root_fun,\n",
    "            lower = 0,\n",
    "            upper = 10000,\n",
    "            check_bracket=False\n",
    "        )\n",
    "        return bisec.run().params\n",
    "\n",
    "    def tangent_solve(g, y):\n",
    "        return y/g(1.0)\n",
    "\n",
    "    return jax.lax.custom_root(\n",
    "        f=root_fun,\n",
    "        initial_guess=50., # dummy value\n",
    "        solve=solve,\n",
    "        tangent_solve=tangent_solve,\n",
    "        has_aux=False   # could set this to True if we wanted to return convergence results from `bisec.run()`\n",
    "    )\n",
    "\n",
    "\n",
    "def dmginvgrad_py(ystar,alpha,l,c,s):\n",
    "    grad_func = jax.grad(dmginverse_py,0)\n",
    "    return(jnp.abs(grad_func(ystar,alpha,l,c,s)))\n",
    "\n",
    "def dmglik_py(ystar,alpha,l,c,s,mu,sigma):\n",
    "    y =  dmginverse_py(ystar,alpha,l,c,s)\n",
    "    return(jax.scipy.stats.norm.logpdf(y,loc = mu,scale = sigma)+ \n",
    "           jnp.log(dmginvgrad_py(ystar,alpha,l,c,s))\n",
    "          )\n",
    "\n",
    "\n",
    "def dmglik_vmap(y_group,alpha,l,c,s,mu,sigma):\n",
    "    y_group = jnp.array(y_group)\n",
    "    lik = jax.vmap(lambda y_group: dmglik_py(ystar = y_group,\n",
    "                                             alpha = alpha,l = l, c= c,s =s,mu = mu, sigma=sigma))(y_group)\n",
    "    return(jnp.sum(lik))\n",
    "\n"
   ]
  },
  {
   "cell_type": "code",
   "execution_count": 3,
   "id": "57d28b01",
   "metadata": {},
   "outputs": [],
   "source": [
    "# def dmginverse_py2(ystar,alpha,l,c,s):\n",
    "#     \"\"\"\n",
    "#     Calculate the root of `Teqn()`.\n",
    "#     \"\"\"\n",
    "#     def root_fun(y):\n",
    "#         return dmgmodel_root_py(y = y,alpha = alpha,l = l,\n",
    "#                                 c = c,s = s,ystar = ystar)\n",
    "\n",
    "#     def solve(root_fun, Ts_init):\n",
    "#         bisec = jaxopt.Bisection(\n",
    "#             optimality_fun=root_fun,\n",
    "#             lower = 0,\n",
    "#             upper = 10000,\n",
    "#             check_bracket=False\n",
    "#         )\n",
    "#         return bisec.run().params\n",
    "\n",
    "#     def tangent_solve(g, y):\n",
    "#         return y/g(1.0)\n",
    "\n",
    "#     return jax.lax.custom_root(\n",
    "#         f=root_fun,\n",
    "#         initial_guess=50., # dummy value\n",
    "#         solve=solve,\n",
    "#         tangent_solve=tangent_solve,\n",
    "#         has_aux=False   # could set this to True if we wanted to return convergence results from `bisec.run()`\n",
    "#     )"
   ]
  },
  {
   "cell_type": "code",
   "execution_count": 4,
   "id": "8318ff76",
   "metadata": {},
   "outputs": [],
   "source": [
    "# dmginverse_py(ystar = 50,alpha = 0.2,l = 32,c = 0.7,s = 10)\n",
    "# dmginverse_py2(ystar = 50,alpha = 0.2,l = 32,c = 0.7,s = 10)"
   ]
  },
  {
   "cell_type": "markdown",
   "id": "df815aa9-2e14-44d9-b857-b7c399759fbf",
   "metadata": {},
   "source": [
    "# real data "
   ]
  },
  {
   "cell_type": "code",
   "execution_count": 5,
   "id": "be7d7a41",
   "metadata": {},
   "outputs": [],
   "source": [
    "import pandas\n",
    "import numpy as np\n",
    "\n",
    "realdata = pandas.read_csv(\"bending-pl.csv\", header = None)\n",
    "realdata[0] = realdata[0]/1000*6.895\n",
    "\n",
    "# l = 4500/1000*6.895\n",
    "# # R100id = (realdata[1] == \"R100\")\n",
    "# # R100 = jnp.array(realdata[realdata[1] == \"R100\"][0])\n",
    "\n",
    "\n",
    "# R100 = jnp.array(realdata[realdata[1] == \"R100\"][0])\n",
    "# R20 = jnp.array(realdata[realdata[1] == \"R20\"][0])\n",
    "# R20R100 = jnp.array(realdata[realdata[1] == \"R20R100\"][0])\n"
   ]
  },
  {
   "cell_type": "code",
   "execution_count": 6,
   "id": "65ce10af",
   "metadata": {},
   "outputs": [
    {
     "data": {
      "text/plain": [
       "{'R100', 'R20', 'R20R100', 'R20_4Y', 'R20_4Y_R100', 'R5', 'R5R100'}"
      ]
     },
     "execution_count": 6,
     "metadata": {},
     "output_type": "execute_result"
    }
   ],
   "source": [
    "realdata = pandas.read_csv(\"bending-pl-4groups.csv\", header = None)\n",
    "realdata[0] = realdata[0]/1000*6.895\n",
    "set(realdata[1])\n",
    "\n",
    "l_1 = 4500/1000*6.895\n",
    "l_2 = 3000/1000*6.895\n",
    "\n",
    "\n",
    "R100 = jnp.array(realdata[realdata[1] == \"R100\"][0])\n",
    "R20 = jnp.array(realdata[realdata[1] == \"R20\"][0])\n",
    "R20R100 = jnp.array(realdata[realdata[1] == \"R20R100\"][0])\n",
    "R20_g2 = 97\n",
    "#R20_g2 = 92\n",
    "R20_4Y = jnp.array(realdata[realdata[1] == \"R20_4Y\"][0])\n",
    "R20_4Y_R100 = jnp.array(realdata[realdata[1] == \"R20_4Y_R100\"][0])\n",
    "R20_4Y_g2 = 41\n",
    "#R20_4Y_g2 = 41\n",
    "\n",
    "R5 = jnp.array(realdata[realdata[1] == \"R5\"][0])\n",
    "R5R100 = jnp.array(realdata[realdata[1] == \"R5R100\"][0])\n",
    "R5_g2 = 42\n",
    "#R5_g2 = 44\n",
    "\n",
    "\n"
   ]
  },
  {
   "cell_type": "code",
   "execution_count": 18,
   "id": "0b5734ee",
   "metadata": {},
   "outputs": [
    {
     "data": {
      "text/plain": [
       "20.685"
      ]
     },
     "execution_count": 18,
     "metadata": {},
     "output_type": "execute_result"
    }
   ],
   "source": [
    "l_2"
   ]
  },
  {
   "cell_type": "code",
   "execution_count": 17,
   "id": "7ca67646",
   "metadata": {},
   "outputs": [
    {
     "data": {
      "text/plain": [
       "Array(51.795937, dtype=float32)"
      ]
     },
     "execution_count": 17,
     "metadata": {},
     "output_type": "execute_result"
    }
   ],
   "source": [
    "np.mean(R5R100)"
   ]
  },
  {
   "cell_type": "code",
   "execution_count": null,
   "id": "a4b1cd35",
   "metadata": {},
   "outputs": [],
   "source": []
  },
  {
   "cell_type": "code",
   "execution_count": 414,
   "id": "2caeb330",
   "metadata": {},
   "outputs": [
    {
     "data": {
      "text/plain": [
       "Array(3085.267, dtype=float32)"
      ]
     },
     "execution_count": 414,
     "metadata": {},
     "output_type": "execute_result"
    }
   ],
   "source": [
    "s = 10\n",
    "@jax.jit\n",
    "def negdmglik_jax(theta):\n",
    "    mu = theta[0]\n",
    "    sigma = theta[1]\n",
    "    c = theta[2]\n",
    "    #alpha = jnp.exp(theta[2])\n",
    "    alpha_R20 = theta[3]\n",
    "    alpha_R20_4Y = theta[4]\n",
    "    alpha_R5 = theta[5]\n",
    "    #s = theta[4]\n",
    "    #s = jnp.exp(theta[4])\n",
    "    #lik1 = jnp.sum(jnp.log(jax.vmap(lambda y: jax.scipy.stats.norm.pdf(y,loc = mu, scale = sigma))(y_obs_g1)))\n",
    "    lik1 = jnp.sum(jax.scipy.stats.norm.logpdf(R20,loc = mu, scale = sigma))\n",
    "    #lik1 = dmglik_vmap(y_group = R20,alpha = alpha,l = l, c = c,s = s, mu = mu, sigma = sigma)\n",
    "    lik2 = R20_g2*jnp.log(\n",
    "        jax.scipy.stats.norm.cdf(dmginverse_py(l_1,alpha_R20,l_1,c,s), loc=mu, scale=sigma) - \n",
    "        jax.scipy.stats.norm.cdf(l_1, loc=mu, scale=sigma)\n",
    "    )\n",
    "    lik3 = dmglik_vmap(y_group = R20R100,alpha = alpha_R20,l = l_1, c = c,s = s, mu = mu, sigma = sigma)\n",
    "    lik4 = jnp.sum(jax.scipy.stats.norm.logpdf(R100,loc = mu, scale = sigma))\n",
    "   \n",
    "    lik5 = jnp.sum(jax.scipy.stats.norm.logpdf(R20_4Y,loc = mu, scale = sigma))\n",
    "    #lik1 = dmglik_vmap(y_group = R20,alpha = alpha,l = l, c = c,s = s, mu = mu, sigma = sigma)\n",
    "    lik6 = R20_4Y_g2*jnp.log(\n",
    "        jax.scipy.stats.norm.cdf(dmginverse_py(l_1,alpha_R20_4Y,l_1,c,s), loc=mu, scale=sigma) - \n",
    "        jax.scipy.stats.norm.cdf(l_1, loc=mu, scale=sigma)\n",
    "    )\n",
    "    lik7 = dmglik_vmap(y_group = R20_4Y_R100,alpha = alpha_R20_4Y,l = l_1, c = c,s = s, mu = mu, sigma = sigma)\n",
    "    \n",
    "    lik8 = jnp.sum(jax.scipy.stats.norm.logpdf(R5,loc = mu, scale = sigma))\n",
    "    #lik1 = dmglik_vmap(y_group = R20,alpha = alpha,l = l, c = c,s = s, mu = mu, sigma = sigma)\n",
    "    lik9 = R5_g2*jnp.log(\n",
    "        jax.scipy.stats.norm.cdf(dmginverse_py(l_2, alpha_R5,l_2,c,s), loc=mu, scale=sigma) - \n",
    "        jax.scipy.stats.norm.cdf(l_2, loc=mu, scale=sigma)\n",
    "    )\n",
    "    lik10 = dmglik_vmap(y_group = R5R100,alpha =  alpha_R5,l = l_2, c = c,s = s, mu = mu, sigma = sigma)\n",
    "    \n",
    "\n",
    "    return(-lik1 - lik2-lik3- lik4 - lik5 - lik6 - lik7 - lik8 - lik9 -lik10)\n",
    "\n",
    "#theta0 = jnp.array([mu,sigma,jnp.log(alpha),c,jnp.log(s)])\n",
    "\n",
    "theta0 = jnp.array([48,19,0.5,0.8,.8,.8])\n",
    "\n",
    "negdmglik_jax(theta0)"
   ]
  },
  {
   "cell_type": "code",
   "execution_count": 415,
   "id": "88259d39-2de6-4d32-9f0e-95b46ab4349b",
   "metadata": {},
   "outputs": [],
   "source": [
    "# import pandas\n",
    "# import numpy as np\n",
    "\n",
    "# realdata = pandas.read_csv(\"bending-pl.csv\", header = None)\n",
    "# realdata[0] = realdata[0]/1000*6.895\n",
    "\n",
    "# l = 4500/1000*6.895\n",
    "# # R100id = (realdata[1] == \"R100\")\n",
    "# # R100 = jnp.array(realdata[realdata[1] == \"R100\"][0])\n",
    "\n",
    "\n",
    "# R100 = jnp.array(realdata[realdata[1] == \"R100\"][0])\n",
    "# R20 = jnp.array(realdata[realdata[1] == \"R20\"][0])\n",
    "# R20R100 = jnp.array(realdata[realdata[1] == \"R20R100\"][0])\n",
    "\n",
    "# g2 = 97\n",
    "\n",
    "\n",
    "\n",
    "# s= 10\n",
    "# l = l\n",
    "# R100 = R100\n",
    "# R20 = R20\n",
    "# R20R100 = R20R100\n",
    "# g2 = 97\n",
    "# @jax.jit\n",
    "# def negdmglik_jax(theta):\n",
    "#     mu = theta[0]\n",
    "#     sigma = theta[1]\n",
    "#     alpha = theta[2]\n",
    "#     #alpha = jnp.exp(theta[2])\n",
    "#     c = theta[3]\n",
    "#     #s = theta[4]\n",
    "#     #s = jnp.exp(theta[4])\n",
    "#     #lik1 = jnp.sum(jnp.log(jax.vmap(lambda y: jax.scipy.stats.norm.pdf(y,loc = mu, scale = sigma))(y_obs_g1)))\n",
    "#     lik1 = jnp.sum(jax.scipy.stats.norm.logpdf(R20,loc = mu, scale = sigma))\n",
    "#     #lik1 = dmglik_vmap(y_group = R20,alpha = alpha,l = l, c = c,s = s, mu = mu, sigma = sigma)\n",
    "#     lik2 = g2*jnp.log(\n",
    "#         jax.scipy.stats.norm.cdf(dmginverse_py(l,alpha,l,c,s), loc=mu, scale=sigma) - \n",
    "#         jax.scipy.stats.norm.cdf(l, loc=mu, scale=sigma)\n",
    "#     )\n",
    "#     lik3 = dmglik_vmap(y_group = R20R100,alpha = alpha,l = l, c = c,s = s, mu = mu, sigma = sigma)\n",
    "#     lik4 = jnp.sum(jax.scipy.stats.norm.logpdf(R100,loc = mu, scale = sigma))\n",
    "\n",
    "#     return(-lik1 - lik2-lik3- lik4)\n",
    "\n",
    "# #theta0 = jnp.array([mu,sigma,jnp.log(alpha),c,jnp.log(s)])\n",
    "\n",
    "# theta0 = jnp.array([mu,sigma,alpha,c])\n",
    "\n",
    "# negdmglik_jax(theta0)"
   ]
  },
  {
   "cell_type": "code",
   "execution_count": 416,
   "id": "11fd99c3",
   "metadata": {},
   "outputs": [],
   "source": [
    "# min(R20R100)\n",
    "# l/res.params[3]"
   ]
  },
  {
   "cell_type": "code",
   "execution_count": 417,
   "id": "fd7b2842-3309-4181-ab10-b71b35ab81d8",
   "metadata": {},
   "outputs": [
    {
     "name": "stderr",
     "output_type": "stream",
     "text": [
      "/Library/Frameworks/Python.framework/Versions/3.11/lib/python3.11/site-packages/scipy/optimize/_minimize.py:549: RuntimeWarning: Method Nelder-Mead does not use gradient information (jac).\n",
      "  warn('Method %s does not use gradient information (jac).' % method,\n"
     ]
    },
    {
     "data": {
      "text/plain": [
       "Array([45.78487   , 17.9521    ,  0.7120856 ,  0.6526442 ,  0.6852989 ,\n",
       "        0.60499483], dtype=float32)"
      ]
     },
     "execution_count": 417,
     "metadata": {},
     "output_type": "execute_result"
    },
    {
     "data": {
      "text/plain": [
       "Array([48. , 19. ,  0.5,  0.8,  0.8,  0.8], dtype=float32)"
      ]
     },
     "execution_count": 417,
     "metadata": {},
     "output_type": "execute_result"
    },
    {
     "data": {
      "text/plain": [
       "Array(2819.2021, dtype=float32)"
      ]
     },
     "execution_count": 417,
     "metadata": {},
     "output_type": "execute_result"
    }
   ],
   "source": [
    "#solver = jaxopt.LBFGS(fun=negdmglik_jax)\n",
    "# res = solver.run(theta0)\n",
    "\n",
    "\n",
    "\n",
    "solver = jaxopt.ScipyMinimize(method = \"Nelder-Mead\",fun=negdmglik_jax)\n",
    "res = solver.run(theta0)\n",
    "\n",
    "res.params\n",
    "theta0\n",
    "\n",
    "# Array(1678.6377, dtype=float32)\n",
    "negdmglik_jax(res.params)"
   ]
  },
  {
   "cell_type": "code",
   "execution_count": 418,
   "id": "39649881",
   "metadata": {},
   "outputs": [
    {
     "data": {
      "text/plain": [
       "Array(2814.8108, dtype=float32)"
      ]
     },
     "execution_count": 418,
     "metadata": {},
     "output_type": "execute_result"
    },
    {
     "data": {
      "text/plain": [
       "OptStep(params=Array([46.340267  , 17.752676  ,  0.6604354 ,  0.6403994 ,  0.65060586,\n",
       "        0.6227851 ], dtype=float32), state=ScipyMinimizeInfo(fun_val=Array(2812.5396, dtype=float32), success=True, status=0, iter_num=118))"
      ]
     },
     "execution_count": 418,
     "metadata": {},
     "output_type": "execute_result"
    }
   ],
   "source": [
    "theta_init = jnp.array([45.78487   , 17.9521    ,  0.6720856 ,  0.6526442 ,  0.6852989 ,\n",
    "        0.60499483])\n",
    "negdmglik_jax(theta_init)\n",
    "\n",
    "\n",
    "solver = jaxopt.ScipyMinimize(method = \"Nelder-Mead\",fun=negdmglik_jax)\n",
    "res = solver.run(theta_init)\n",
    "\n",
    "res\n"
   ]
  },
  {
   "cell_type": "code",
   "execution_count": 419,
   "id": "bbc11b6d-c27b-4fda-ab4f-52249e31a688",
   "metadata": {},
   "outputs": [
    {
     "data": {
      "text/plain": [
       "<seaborn.axisgrid.FacetGrid at 0x14b4ea350>"
      ]
     },
     "execution_count": 419,
     "metadata": {},
     "output_type": "execute_result"
    },
    {
     "data": {
      "image/png": "[encoded data removed]",
      "text/plain": [
       "<Figure size 3000x500 with 6 Axes>"
      ]
     },
     "metadata": {},
     "output_type": "display_data"
    }
   ],
   "source": [
    "xsol = res.params\n",
    "xrange = .05\n",
    "theta_upper = xsol  + xrange *jnp.abs(xsol)\n",
    "theta_lower = xsol - xrange * jnp.abs(xsol)\n",
    "theta_rng_trans = jnp.array([theta_lower, theta_upper])\n",
    "\n",
    "#res.params\n",
    "theta_rng = jnp.transpose(theta_rng_trans)\n",
    "#theta_rng = theta_rng.at[2,:].set(jnp.array([0.1,0.9]))\n",
    "# plot at the true value theta0\n",
    "pjp.proj_plot(\n",
    "    fun=negdmglik_jax,\n",
    "    x_opt=xsol,\n",
    "    x_lims=theta_rng,\n",
    "    x_names = ['mu','sigma','c','alpha_R20','alpha_R20_4Y','alpha_R5'],\n",
    "    n_pts=100, \n",
    "    opt_vlines=True\n",
    ")"
   ]
  },
  {
   "cell_type": "code",
   "execution_count": 420,
   "id": "46aebdcb",
   "metadata": {},
   "outputs": [
    {
     "data": {
      "text/plain": [
       "0.3991769547325103"
      ]
     },
     "execution_count": 420,
     "metadata": {},
     "output_type": "execute_result"
    },
    {
     "data": {
      "text/plain": [
       "0.5256410256410257"
      ]
     },
     "execution_count": 420,
     "metadata": {},
     "output_type": "execute_result"
    },
    {
     "data": {
      "text/plain": [
       "0.21761658031088082"
      ]
     },
     "execution_count": 420,
     "metadata": {},
     "output_type": "execute_result"
    }
   ],
   "source": [
    "R20_g2/(R20_g2 + R20R100.shape[-1])\n",
    "\n",
    "R20_4Y_g2/(R20_4Y_g2 + R20_4Y_R100.shape[-1])\n",
    "\n",
    "\n",
    "R5_g2/(R5_g2 + R5R100.shape[-1])\n",
    "\n"
   ]
  },
  {
   "cell_type": "code",
   "execution_count": 421,
   "id": "565b48c1",
   "metadata": {},
   "outputs": [
    {
     "data": {
      "text/plain": [
       "300"
      ]
     },
     "execution_count": 421,
     "metadata": {},
     "output_type": "execute_result"
    },
    {
     "data": {
      "text/plain": [
       "101"
      ]
     },
     "execution_count": 421,
     "metadata": {},
     "output_type": "execute_result"
    }
   ],
   "source": [
    "R20_g2  + R20R100.shape[-1] + R20.shape[-1]\n",
    "R20_4Y_g2  + R20_4Y_R100.shape[-1] + R20_4Y.shape[-1]"
   ]
  },
  {
   "cell_type": "code",
   "execution_count": 422,
   "id": "437228ad",
   "metadata": {},
   "outputs": [],
   "source": [
    "# xsol = res.params\n",
    "# xrange = .01\n",
    "# theta_upper = xsol  + xrange *jnp.abs(xsol)\n",
    "# theta_lower = xsol - xrange * jnp.abs(xsol)\n",
    "# theta_rng_trans = jnp.array([theta_lower, theta_upper])\n",
    "\n",
    "# #res.params\n",
    "# theta_rng = jnp.transpose(theta_rng_trans)\n",
    "# #theta_rng = theta_rng.at[2,:].set(jnp.array([0.1,0.9]))\n",
    "# # plot at the true value theta0\n",
    "# pjp.proj_plot(\n",
    "#     fun=negdmglik_jax,\n",
    "#     x_opt=xsol,\n",
    "#     x_lims=theta_rng,\n",
    "#     x_names = ['mu','sigma','c','alpha_R20','alpha_R20_4Y','alpha_R5'],\n",
    "#     n_pts=100, \n",
    "#     opt_vlines=True\n",
    "# )"
   ]
  },
  {
   "cell_type": "code",
   "execution_count": 423,
   "id": "4bd29844",
   "metadata": {},
   "outputs": [
    {
     "data": {
      "text/plain": [
       "0.7240888521058717"
      ]
     },
     "execution_count": 423,
     "metadata": {},
     "output_type": "execute_result"
    }
   ],
   "source": [
    "#R20\n",
    "trunc_mean = scipy.stats.truncnorm.mean((l_1/res.params[2] -res.params[0])/res.params[1] , \n",
    "                                         float(\"inf\"), loc=res.params[0], scale=res.params[1])\n",
    "trunc_var = scipy.stats.truncnorm.var((l_1/res.params[2] -res.params[0])/res.params[1] , \n",
    "                                         float(\"inf\"), loc=res.params[0], scale=res.params[1])\n",
    "\n",
    "sample_mean = trunc_mean\n",
    "sample_var = trunc_var/R20R100.shape[-1]\n",
    "\n",
    "\n",
    "test_stat = (np.mean(R20R100) - sample_mean)/np.sqrt(sample_var)\n",
    "scipy.stats.norm.cdf(test_stat)"
   ]
  },
  {
   "cell_type": "code",
   "execution_count": 424,
   "id": "f40dfbdc",
   "metadata": {},
   "outputs": [
    {
     "data": {
      "text/plain": [
       "0.0011608546718844736"
      ]
     },
     "execution_count": 424,
     "metadata": {},
     "output_type": "execute_result"
    }
   ],
   "source": [
    "#R20_4Y\n",
    "trunc_mean = scipy.stats.truncnorm.mean((l_1/res.params[2] -res.params[0])/res.params[1] , \n",
    "                                         float(\"inf\"), loc=res.params[0], scale=res.params[1])\n",
    "trunc_var = scipy.stats.truncnorm.var((l_1/res.params[2] -res.params[0])/res.params[1] , \n",
    "                                         float(\"inf\"), loc=res.params[0], scale=res.params[1])\n",
    "\n",
    "sample_mean = trunc_mean\n",
    "sample_var = trunc_var/R20_4Y_R100.shape[-1]\n",
    "\n",
    "\n",
    "test_stat = (np.mean(R20_4Y_R100) - sample_mean)/np.sqrt(sample_var)\n",
    "scipy.stats.norm.cdf(test_stat)\n",
    "\n"
   ]
  },
  {
   "cell_type": "code",
   "execution_count": 425,
   "id": "d651e3a1",
   "metadata": {},
   "outputs": [
    {
     "data": {
      "text/plain": [
       "0.25602856052391154"
      ]
     },
     "execution_count": 425,
     "metadata": {},
     "output_type": "execute_result"
    }
   ],
   "source": [
    "#R5_4Y\n",
    "trunc_mean = scipy.stats.truncnorm.mean((l_2/res.params[2] -res.params[0])/res.params[1] , \n",
    "                                         float(\"inf\"), loc=res.params[0], scale=res.params[1])\n",
    "trunc_var = scipy.stats.truncnorm.var((l_2/res.params[2] -res.params[0])/res.params[1] , \n",
    "                                         float(\"inf\"), loc=res.params[0], scale=res.params[1])\n",
    "\n",
    "sample_mean = trunc_mean\n",
    "sample_var = trunc_var/R5R100.shape[-1]\n",
    "\n",
    "\n",
    "test_stat = (np.mean(R5R100) - sample_mean)/np.sqrt(sample_var)\n",
    "scipy.stats.norm.cdf(test_stat)"
   ]
  },
  {
   "cell_type": "markdown",
   "id": "648e8292",
   "metadata": {},
   "source": [
    "# remove unsignificant"
   ]
  },
  {
   "cell_type": "code",
   "execution_count": null,
   "id": "70e429cf",
   "metadata": {},
   "outputs": [],
   "source": []
  },
  {
   "cell_type": "code",
   "execution_count": 469,
   "id": "c20cee8d",
   "metadata": {},
   "outputs": [
    {
     "data": {
      "text/plain": [
       "Array(2121.994, dtype=float32)"
      ]
     },
     "execution_count": 469,
     "metadata": {},
     "output_type": "execute_result"
    }
   ],
   "source": [
    "s = 10\n",
    "@jax.jit\n",
    "def negdmglik_jax(theta):\n",
    "    mu = mu_R100\n",
    "    sigma = sigma_R100\n",
    "    #c = .7\n",
    "    c = theta[0]\n",
    "    #alpha = jnp.exp(theta[2])\n",
    "    alpha_R20 = theta[1]\n",
    "    alpha_R20_4Y = theta[2]\n",
    "    #alpha_R5 = theta[4]\n",
    "    #s = theta[5]\n",
    "    #s = jnp.exp(theta[4])\n",
    "    lik1 = jnp.sum(jax.scipy.stats.norm.logpdf(R20,loc = mu, scale = sigma))\n",
    "    #lik1 = dmglik_vmap(y_group = R20,alpha = alpha,l = l, c = c,s = s, mu = mu, sigma = sigma)\n",
    "    lik2 = R20_g2*jnp.log(\n",
    "        jax.scipy.stats.norm.cdf(dmginverse_py(l_1,alpha_R20,l_1,c,s), loc=mu, scale=sigma) - \n",
    "        jax.scipy.stats.norm.cdf(l_1, loc=mu, scale=sigma)\n",
    "    )\n",
    "    lik3 = dmglik_vmap(y_group = R20R100,alpha = alpha_R20,l = l_1, c = c,s = s, mu = mu, sigma = sigma)\n",
    "    \n",
    "    lik4 = jnp.sum(jax.scipy.stats.norm.logpdf(R100,loc = mu, scale = sigma))\n",
    "   \n",
    "    lik5 = jnp.sum(jax.scipy.stats.norm.logpdf(R20_4Y,loc = mu, scale = sigma))\n",
    "    #lik1 = dmglik_vmap(y_group = R20,alpha = alpha,l = l, c = c,s = s, mu = mu, sigma = sigma)\n",
    "    lik6 = R20_4Y_g2*jnp.log(\n",
    "        jax.scipy.stats.norm.cdf(dmginverse_py(l_1,alpha_R20_4Y,l_1,c,s), loc=mu, scale=sigma) - \n",
    "        jax.scipy.stats.norm.cdf(l_1, loc=mu, scale=sigma)\n",
    "    )\n",
    "    lik7 = dmglik_vmap(y_group = R20_4Y_R100,alpha = alpha_R20_4Y,l = l_1, c = c,s = s, mu = mu, sigma = sigma)\n",
    "    \n",
    "#     lik8 = jnp.sum(jax.scipy.stats.norm.logpdf(R5,loc = mu, scale = sigma))\n",
    "#     #lik1 = dmglik_vmap(y_group = R20,alpha = alpha,l = l, c = c,s = s, mu = mu, sigma = sigma)\n",
    "#     lik9 = R5_g2*jnp.log(\n",
    "#         jax.scipy.stats.norm.cdf(dmginverse_py(l_2, alpha_R5,l_2,c,s), loc=mu, scale=sigma) - \n",
    "#         jax.scipy.stats.norm.cdf(l_2, loc=mu, scale=sigma)\n",
    "#     )\n",
    "#     lik10 = dmglik_vmap(y_group = R5R100,alpha =  alpha_R5,l = l_2, c = c,s = s, mu = mu, sigma = sigma)\n",
    "    \n",
    "    return(-lik1 - lik2-lik3- lik4 - lik5 - lik6 - lik7)\n",
    "    #return(-lik1 - lik2-lik3- lik4 - lik5 - lik6 - lik7 - lik8 - lik9 -lik10)\n",
    "\n",
    "#theta0 = jnp.array([mu,sigma,jnp.log(alpha),c,jnp.log(s)])\n",
    "\n",
    "theta0 = jnp.array([.7,.8,.8])\n",
    "\n",
    "negdmglik_jax(theta0)"
   ]
  },
  {
   "cell_type": "code",
   "execution_count": 470,
   "id": "2d3d9888",
   "metadata": {},
   "outputs": [
    {
     "data": {
      "text/plain": [
       "Array([0.7171004, 0.6437505, 0.6861879], dtype=float32)"
      ]
     },
     "execution_count": 470,
     "metadata": {},
     "output_type": "execute_result"
    },
    {
     "data": {
      "text/plain": [
       "Array([0.7, 0.8, 0.8], dtype=float32)"
      ]
     },
     "execution_count": 470,
     "metadata": {},
     "output_type": "execute_result"
    },
    {
     "data": {
      "text/plain": [
       "Array(2051.503, dtype=float32)"
      ]
     },
     "execution_count": 470,
     "metadata": {},
     "output_type": "execute_result"
    }
   ],
   "source": [
    "# solver = jaxopt.LBFGS(fun=negdmglik_jax)\n",
    "# res = solver.run(theta0)\n",
    "\n",
    "\n",
    "\n",
    "solver = jaxopt.ScipyMinimize(method = \"Nelder-Mead\",fun=negdmglik_jax)\n",
    "res = solver.run(theta0)\n",
    "\n",
    "res.params\n",
    "theta0\n",
    "\n",
    "#Array(2035.6165, dtype=float32)\n",
    "negdmglik_jax(res.params)"
   ]
  },
  {
   "cell_type": "code",
   "execution_count": 428,
   "id": "8e54e139",
   "metadata": {},
   "outputs": [],
   "source": [
    "# pg = jaxopt.ProjectedGradient(fun=negdmglik_jax, \n",
    "#                        projection=jaxopt.projection.projection_halfspace,a)\n",
    "# pg_sol = pg.run(theta0, hyperparams_proj=(jnp.array([0,0,1,0,-1]),0))"
   ]
  },
  {
   "cell_type": "code",
   "execution_count": 429,
   "id": "a81b8d06",
   "metadata": {},
   "outputs": [],
   "source": [
    "# pg_sol"
   ]
  },
  {
   "cell_type": "code",
   "execution_count": 474,
   "id": "b9c5e5c1",
   "metadata": {},
   "outputs": [
    {
     "data": {
      "text/plain": [
       "<seaborn.axisgrid.FacetGrid at 0x2bec5e590>"
      ]
     },
     "execution_count": 474,
     "metadata": {},
     "output_type": "execute_result"
    },
    {
     "data": {
      "image/png": "[encoded data removed]",
      "text/plain": [
       "<Figure size 1500x500 with 3 Axes>"
      ]
     },
     "metadata": {},
     "output_type": "display_data"
    }
   ],
   "source": [
    "xsol = res.params\n",
    "xrange = .05\n",
    "theta_upper = xsol  + xrange *jnp.abs(xsol)\n",
    "theta_lower = xsol - xrange * jnp.abs(xsol)\n",
    "theta_rng_trans = jnp.array([theta_lower, theta_upper])\n",
    "\n",
    "#res.params\n",
    "theta_rng = jnp.transpose(theta_rng_trans)\n",
    "#theta_rng = theta_rng.at[2,:].set(jnp.array([0.1,0.9]))\n",
    "# plot at the true value theta0\n",
    "pjp.proj_plot(\n",
    "    fun=negdmglik_jax,\n",
    "    x_opt=xsol,\n",
    "    x_lims=theta_rng,\n",
    "    x_names = ['c','alpha_R20','alpha_R20_4Y'],\n",
    "    n_pts=100, \n",
    "    opt_vlines=True\n",
    ")"
   ]
  },
  {
   "cell_type": "code",
   "execution_count": 431,
   "id": "d0495dc4",
   "metadata": {},
   "outputs": [],
   "source": [
    "# R20_4Y_R100_ori = jax.vmap(dmginverse_py,\n",
    "#          in_axes = (0,None,None,None,None)\n",
    "#         )(R20_4Y_R100,res.params[4],l_1,res.params[2],s)\n",
    "\n",
    "# jnp.vstack((R20_4Y_R100,R20_4Y_R100_ori)).T"
   ]
  },
  {
   "cell_type": "code",
   "execution_count": 432,
   "id": "b02862f9",
   "metadata": {},
   "outputs": [],
   "source": [
    "hess = jax.hessian(negdmglik_jax)(res.params)"
   ]
  },
  {
   "cell_type": "code",
   "execution_count": 433,
   "id": "e618bf72",
   "metadata": {},
   "outputs": [],
   "source": [
    "theta_sd = jnp.sqrt(jnp.diag(jnp.linalg.inv(hess)))"
   ]
  },
  {
   "cell_type": "code",
   "execution_count": 434,
   "id": "00431879",
   "metadata": {},
   "outputs": [
    {
     "data": {
      "text/plain": [
       "Array([45.737602  , 18.130657  ,  0.7312801 ,  0.6956914 ,  0.71315867],      dtype=float32)"
      ]
     },
     "execution_count": 434,
     "metadata": {},
     "output_type": "execute_result"
    },
    {
     "data": {
      "text/plain": [
       "Array([0.7834837 , 0.5524769 , 0.00357495, 0.05854852, 0.05092545],      dtype=float32)"
      ]
     },
     "execution_count": 434,
     "metadata": {},
     "output_type": "execute_result"
    },
    {
     "data": {
      "text/plain": [
       "Array([44.201973 , 17.047802 ,  0.7242732,  0.5809363,  0.6133448],      dtype=float32)"
      ]
     },
     "execution_count": 434,
     "metadata": {},
     "output_type": "execute_result"
    },
    {
     "data": {
      "text/plain": [
       "Array([47.27323   , 19.213512  ,  0.738287  ,  0.8104465 ,  0.81297255],      dtype=float32)"
      ]
     },
     "execution_count": 434,
     "metadata": {},
     "output_type": "execute_result"
    }
   ],
   "source": [
    "theta_est = res.params\n",
    "theta_sd = jnp.sqrt(jnp.diag(jnp.linalg.inv(hess)))\n",
    "theta_lower = res.params - 1.96*theta_sd\n",
    "theta_upper = res.params + 1.96*theta_sd\n",
    "\n",
    "theta_est\n",
    "theta_sd\n",
    "theta_lower\n",
    "theta_upper"
   ]
  },
  {
   "cell_type": "code",
   "execution_count": 449,
   "id": "66f4042d",
   "metadata": {},
   "outputs": [
    {
     "data": {
      "text/plain": [
       "Array([0.71315867, 0.05092545, 0.6133448 , 0.81297255], dtype=float32)"
      ]
     },
     "execution_count": 449,
     "metadata": {},
     "output_type": "execute_result"
    }
   ],
   "source": [
    "resmat = jnp.vstack((theta_est\n",
    ",theta_sd\n",
    ",theta_lower\n",
    ",theta_upper)).T\n",
    "\n",
    "\n",
    "resmat[4 ,:]"
   ]
  },
  {
   "cell_type": "code",
   "execution_count": 457,
   "id": "7c01fe13",
   "metadata": {},
   "outputs": [
    {
     "data": {
      "text/plain": [
       "Array(5, dtype=int32)"
      ]
     },
     "execution_count": 457,
     "metadata": {},
     "output_type": "execute_result"
    },
    {
     "data": {
      "text/plain": [
       "Array(10, dtype=int32)"
      ]
     },
     "execution_count": 457,
     "metadata": {},
     "output_type": "execute_result"
    }
   ],
   "source": [
    "#l_1/res.params[2]\n",
    "\n",
    "jnp.sum((R20_4Y_R100 < l_1/res.params[2]))\n",
    "jnp.sum((R20R100 < l_1/res.params[2]))\n"
   ]
  },
  {
   "cell_type": "code",
   "execution_count": 436,
   "id": "99b820f4",
   "metadata": {},
   "outputs": [],
   "source": [
    "# xsol = res.params\n",
    "# xrange = .01\n",
    "# theta_upper = xsol  + xrange *jnp.abs(xsol)\n",
    "# theta_lower = xsol - xrange * jnp.abs(xsol)\n",
    "# theta_rng_trans = jnp.array([theta_lower, theta_upper])\n",
    "\n",
    "# #res.params\n",
    "# theta_rng = jnp.transpose(theta_rng_trans)\n",
    "# #theta_rng = theta_rng.at[2,:].set(jnp.array([0.1,0.9]))\n",
    "# # plot at the true value theta0\n",
    "# pjp.proj_plot(\n",
    "#     fun=negdmglik_jax,\n",
    "#     x_opt=xsol,\n",
    "#     x_lims=theta_rng,\n",
    "#     x_names = ['mu','sigma','c','alpha_R20_4Y'],\n",
    "#     n_pts=100, \n",
    "#     opt_vlines=True\n",
    "# )"
   ]
  },
  {
   "cell_type": "code",
   "execution_count": 437,
   "id": "c6ba265a",
   "metadata": {},
   "outputs": [
    {
     "data": {
      "text/plain": [
       "0.9996925460095549"
      ]
     },
     "execution_count": 437,
     "metadata": {},
     "output_type": "execute_result"
    }
   ],
   "source": [
    "#R20_4Y\n",
    "trunc_mean = scipy.stats.truncnorm.mean((l_1/res.params[2] -res.params[0])/res.params[1] , \n",
    "                                         float(\"inf\"), loc=res.params[0], scale=res.params[1])\n",
    "trunc_var = scipy.stats.truncnorm.var((l_1/res.params[2] -res.params[0])/res.params[1] , \n",
    "                                         float(\"inf\"), loc=res.params[0], scale=res.params[1])\n",
    "\n",
    "sample_mean = trunc_mean\n",
    "sample_var = trunc_var/R20R100.shape[-1]\n",
    "\n",
    "\n",
    "test_stat = (np.mean(R20R100) - sample_mean)/np.sqrt(sample_var)\n",
    "scipy.stats.norm.cdf(test_stat)"
   ]
  },
  {
   "cell_type": "code",
   "execution_count": 438,
   "id": "99e5e90a",
   "metadata": {},
   "outputs": [
    {
     "data": {
      "text/plain": [
       "0.08934861262924898"
      ]
     },
     "execution_count": 438,
     "metadata": {},
     "output_type": "execute_result"
    }
   ],
   "source": [
    "#R20_4Y\n",
    "trunc_mean = scipy.stats.truncnorm.mean((l_1/res.params[2] -res.params[0])/res.params[1] , \n",
    "                                         float(\"inf\"), loc=res.params[0], scale=res.params[1])\n",
    "trunc_var = scipy.stats.truncnorm.var((l_1/res.params[2] -res.params[0])/res.params[1] , \n",
    "                                         float(\"inf\"), loc=res.params[0], scale=res.params[1])\n",
    "\n",
    "sample_mean = trunc_mean\n",
    "sample_var = trunc_var/R20_4Y_R100.shape[-1]\n",
    "\n",
    "\n",
    "test_stat = (np.mean(R20_4Y_R100) - sample_mean)/np.sqrt(sample_var)\n",
    "scipy.stats.norm.cdf(test_stat)"
   ]
  },
  {
   "cell_type": "code",
   "execution_count": 439,
   "id": "eb14d01f",
   "metadata": {},
   "outputs": [
    {
     "data": {
      "text/plain": [
       "Array(55.6143, dtype=float32)"
      ]
     },
     "execution_count": 439,
     "metadata": {},
     "output_type": "execute_result"
    },
    {
     "data": {
      "text/plain": [
       "58.16538098740168"
      ]
     },
     "execution_count": 439,
     "metadata": {},
     "output_type": "execute_result"
    }
   ],
   "source": [
    "np.mean(R20_4Y_R100) \n",
    "trunc_mean"
   ]
  },
  {
   "cell_type": "markdown",
   "id": "643de645",
   "metadata": {},
   "source": [
    "# only fit R100"
   ]
  },
  {
   "cell_type": "code",
   "execution_count": 461,
   "id": "59dcf504",
   "metadata": {},
   "outputs": [
    {
     "data": {
      "text/plain": [
       "Array(612.373, dtype=float32)"
      ]
     },
     "execution_count": 461,
     "metadata": {},
     "output_type": "execute_result"
    }
   ],
   "source": [
    "s = 20\n",
    "@jax.jit\n",
    "def negR100(theta):\n",
    "    mu = theta[0]\n",
    "    sigma = theta[1]\n",
    "\n",
    "    lik4 = jnp.sum(jax.scipy.stats.norm.logpdf(R100,loc = mu, scale = sigma))\n",
    "\n",
    "    return(-lik4)\n",
    "    #return(-lik1 - lik2-lik3- lik4 - lik5 - lik6 - lik7 - lik8 - lik9 -lik10)\n",
    "\n",
    "\n",
    "theta0 = jnp.array([48.,19.])\n",
    "\n",
    "negR100(theta0)"
   ]
  },
  {
   "cell_type": "code",
   "execution_count": 463,
   "id": "2bff3850",
   "metadata": {},
   "outputs": [
    {
     "data": {
      "text/plain": [
       "Array([47.390682, 19.198172], dtype=float32)"
      ]
     },
     "execution_count": 463,
     "metadata": {},
     "output_type": "execute_result"
    },
    {
     "data": {
      "text/plain": [
       "Array([48., 19.], dtype=float32)"
      ]
     },
     "execution_count": 463,
     "metadata": {},
     "output_type": "execute_result"
    },
    {
     "data": {
      "text/plain": [
       "Array(612.28845, dtype=float32)"
      ]
     },
     "execution_count": 463,
     "metadata": {},
     "output_type": "execute_result"
    }
   ],
   "source": [
    "# solver = jaxopt.LBFGS(fun=negdmglik_jax)\n",
    "# res = solver.run(theta0)\n",
    "\n",
    "\n",
    "\n",
    "solver = jaxopt.ScipyMinimize(method = \"Nelder-Mead\",fun=negR100)\n",
    "res = solver.run(theta0)\n",
    "\n",
    "res.params\n",
    "theta0\n",
    "\n",
    "#Array(2035.6165, dtype=float32)\n",
    "negR100(res.params)\n",
    "\n"
   ]
  },
  {
   "cell_type": "code",
   "execution_count": 464,
   "id": "57de9502",
   "metadata": {},
   "outputs": [],
   "source": [
    "mu_R100 = 47.390682\n",
    "sigma_R100 = 19.198172"
   ]
  },
  {
   "cell_type": "markdown",
   "id": "7ef6d715",
   "metadata": {},
   "source": [
    "# one dataset, R20 4 Year"
   ]
  },
  {
   "cell_type": "code",
   "execution_count": 440,
   "id": "14f2bd48",
   "metadata": {},
   "outputs": [],
   "source": [
    "# s = 10\n",
    "# @jax.jit\n",
    "# def negdmglik_jax(theta):\n",
    "#   #  mu = theta[0]\n",
    "# #     sigma = theta[1]\n",
    "#     mu = 46.4251    \n",
    "#     sigma = 17.936962\n",
    "#     c = theta[0]\n",
    "#     #alpha = jnp.exp(theta[2])\n",
    "#     #alpha_R20 = theta[3]\n",
    "#     alpha_R20_4Y = theta[1]\n",
    "#     #alpha_R5 = .1\n",
    "#     #s = theta[4]\n",
    "#     #s = jnp.exp(theta[4])\n",
    "#     #lik1 = jnp.sum(jnp.log(jax.vmap(lambda y: jax.scipy.stats.norm.pdf(y,loc = mu, scale = sigma))(y_obs_g1)))\n",
    "# #     lik1 = jnp.sum(jax.scipy.stats.norm.logpdf(R20,loc = mu, scale = sigma))\n",
    "# #     #lik1 = dmglik_vmap(y_group = R20,alpha = alpha,l = l, c = c,s = s, mu = mu, sigma = sigma)\n",
    "# #     lik2 = R20_g2*jnp.log(\n",
    "# #         jax.scipy.stats.norm.cdf(dmginverse_py(l_1,alpha_R20,l_1,c,s), loc=mu, scale=sigma) - \n",
    "# #         jax.scipy.stats.norm.cdf(l_1, loc=mu, scale=sigma)\n",
    "# #     )\n",
    "# #     lik3 = dmglik_vmap(y_group = R20R100,alpha = alpha_R20,l = l_1, c = c,s = s, mu = mu, sigma = sigma)\n",
    "    \n",
    "#    # lik4 = jnp.sum(jax.scipy.stats.norm.logpdf(R100,loc = mu, scale = sigma))\n",
    "   \n",
    "#     lik5 = jnp.sum(jax.scipy.stats.norm.logpdf(R20_4Y,loc = mu, scale = sigma))\n",
    "#     #lik1 = dmglik_vmap(y_group = R20,alpha = alpha,l = l, c = c,s = s, mu = mu, sigma = sigma)\n",
    "#     lik6 = R20_4Y_g2*jnp.log(\n",
    "#         jax.scipy.stats.norm.cdf(dmginverse_py(l_1,alpha_R20_4Y,l_1,c,s), loc=mu, scale=sigma) - \n",
    "#         jax.scipy.stats.norm.cdf(l_1, loc=mu, scale=sigma)\n",
    "#     )\n",
    "#     lik7 = dmglik_vmap(y_group = R20_4Y_R100,alpha = alpha_R20_4Y,l = l_1, c = c,s = s, mu = mu, sigma = sigma)\n",
    "    \n",
    "# #     lik8 = jnp.sum(jax.scipy.stats.norm.logpdf(R5,loc = mu, scale = sigma))\n",
    "# #     #lik1 = dmglik_vmap(y_group = R20,alpha = alpha,l = l, c = c,s = s, mu = mu, sigma = sigma)\n",
    "# #     lik9 = R5_g2*jnp.log(\n",
    "# #         jax.scipy.stats.norm.cdf(dmginverse_py(l_2, alpha_R5,l_2,c,s), loc=mu, scale=sigma) - \n",
    "# #         jax.scipy.stats.norm.cdf(l_2, loc=mu, scale=sigma)\n",
    "# #     )\n",
    "# #     lik10 = dmglik_vmap(y_group = R5R100,alpha =  alpha_R5,l = l_2, c = c,s = s, mu = mu, sigma = sigma)\n",
    "    \n",
    "#     return( - lik5 - lik6 - lik7 )\n",
    "#     #return(-lik1 - lik2-lik3- lik4 - lik5 - lik6 - lik7 - lik8 - lik9 -lik10)\n",
    "\n",
    "# #theta0 = jnp.array([mu,sigma,jnp.log(alpha),c,jnp.log(s)])\n",
    "\n",
    "# theta0 = jnp.array([0.6,.8])\n",
    "\n",
    "# negdmglik_jax(theta0)"
   ]
  },
  {
   "cell_type": "code",
   "execution_count": 441,
   "id": "626a26fe",
   "metadata": {},
   "outputs": [],
   "source": [
    "# # solver = jaxopt.LBFGS(fun=negdmglik_jax)\n",
    "# # res = solver.run(theta0)\n",
    "\n",
    "\n",
    "\n",
    "# solver = jaxopt.ScipyMinimize(method = \"Nelder-Mead\",fun=negdmglik_jax)\n",
    "# res = solver.run(theta0)\n",
    "\n",
    "# res.params\n",
    "# theta0\n",
    "\n",
    "# # Array(1678.6377, dtype=float32)\n",
    "# negdmglik_jax(res.params)"
   ]
  },
  {
   "cell_type": "code",
   "execution_count": 442,
   "id": "1bdd5bf0",
   "metadata": {},
   "outputs": [],
   "source": [
    "# xsol = res.params\n",
    "# xrange = .1\n",
    "# theta_upper = xsol  + xrange *jnp.abs(xsol)\n",
    "# theta_lower = xsol - xrange * jnp.abs(xsol)\n",
    "# theta_rng_trans = jnp.array([theta_lower, theta_upper])\n",
    "\n",
    "# #res.params\n",
    "# theta_rng = jnp.transpose(theta_rng_trans)\n",
    "# #theta_rng = theta_rng.at[2,:].set(jnp.array([0.1,0.9]))\n",
    "# # plot at the true value theta0\n",
    "# pjp.proj_plot(\n",
    "#     fun=negdmglik_jax,\n",
    "#     x_opt=xsol,\n",
    "#     x_lims=theta_rng,\n",
    "#     x_names = ['c','alpha_R20_4Y'],\n",
    "#     n_pts=100, \n",
    "#     opt_vlines=True\n",
    "# )"
   ]
  },
  {
   "cell_type": "code",
   "execution_count": 443,
   "id": "962fa68e",
   "metadata": {},
   "outputs": [],
   "source": [
    "# hess = jax.hessian(negdmglik_jax)(res.params)"
   ]
  },
  {
   "cell_type": "code",
   "execution_count": 444,
   "id": "5130a421",
   "metadata": {},
   "outputs": [],
   "source": [
    "# theta_est = res.params\n",
    "# theta_sd = jnp.sqrt(jnp.diag(jnp.linalg.inv(hess)))\n",
    "# theta_lower = res.params - 1.96*theta_sd\n",
    "# theta_upper = res.params + 1.96*theta_sd\n",
    "\n",
    "# theta_est\n",
    "# theta_lower\n",
    "# theta_upper"
   ]
  }
 ],
 "metadata": {
  "kernelspec": {
   "display_name": "Python 3 (ipykernel)",
   "language": "python",
   "name": "python3"
  },
  "language_info": {
   "codemirror_mode": {
    "name": "ipython",
    "version": 3
   },
   "file_extension": ".py",
   "mimetype": "text/x-python",
   "name": "python",
   "nbconvert_exporter": "python",
   "pygments_lexer": "ipython3",
   "version": "3.11.2"
  }
 },
 "nbformat": 4,
 "nbformat_minor": 5
}
