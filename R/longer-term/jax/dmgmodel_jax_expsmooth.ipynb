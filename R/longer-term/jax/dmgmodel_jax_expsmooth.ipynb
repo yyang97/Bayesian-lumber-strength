{
 "cells": [
  {
   "cell_type": "markdown",
   "id": "99771c14",
   "metadata": {},
   "source": [
    "# Damage model \n",
    "The original model is \n",
    "\n",
    "\\begin{equation}\\label{eq: original model}\n",
    "y^*  = y \\cdot I\\{c \\cdot y > l\\} + \\alpha \\cdot y \\cdot I\\{c \\cdot y < l\\}\n",
    "\\end{equation}\n",
    "\n",
    "\n",
    "\n",
    "# Smooth function\n",
    "\n",
    "Note that we have the indicator function in the model we might consider the smooth function:\n",
    "\\begin{equation}\\label{eq: trans function}\n",
    "S(x;s) = \\frac{1}{1 + \\exp(-s \\cdot x)}\n",
    "\\end{equation},\n",
    "where $s$ is the smoothing hyper-parameter to control the smoothness. "
   ]
  },
  {
   "cell_type": "markdown",
   "id": "7eb933ea",
   "metadata": {},
   "source": [
    "Then the model becomes \n",
    "$$\n",
    "y^*  = y \\cdot \\frac{1}{1 + \\exp(-s\\cdot(cy-l))} + \\alpha \\cdot y \\cdot \\frac{1}{1 + \\exp(-s\\cdot(l-cy))}\n",
    "$$"
   ]
  },
  {
   "cell_type": "markdown",
   "id": "3cca7c62",
   "metadata": {},
   "source": [
    "We have $y \\geq y^*$.\n",
    "\n",
    "The lumber have three groups:\n",
    "\n",
    "- Group 1: $y <l$, $y^* < l$, i.e., $y^* <y < l$. The lumber pieces are broken blow the proof loading.\n",
    "- Group 2: $y >l$, $y^* < l$, i.e. $y^*<l<y$. The lumber pieces are broken during the proof loading process. This groups we only knows how many pieces. \n",
    "\n",
    "update: this group should be $0<y^*<l<y$. So $F_y(h^{-1}(l)) - F_y(h^{-1}(\\max(0,h^{-1}(l)))$\n",
    "- Group 3: $y >l$, $y^* > l$, i.e. $l<y^*<y$. The lumber pieces survived in the proof-loading. And then we destruct them to test their strength.\n",
    "\n",
    "\n",
    "# The PDF calculation \n",
    "\n",
    "Given $Y \\sim N(\\mu, \\sigma^2)$, $Y^* = h(Y)$. Then the pdf of $Y^*$,\n",
    "$$\n",
    "f_{Y^*}(y^*) = f_{Y}(h^{-1}(y^*))|\\frac{d}{dy^*}h^{-1}(y^*)|,\n",
    "$$\n",
    "where $f_Y()$ is the pdf of $Y$, i.e., normal. \n",
    "\n",
    "Following this, We need the numerical function of $h^{-1}(y^*)$, and its numerical gradient $\\frac{d}{dy^*}h^{-1}(y^*)$. (The analytical form doesn't seem available.)"
   ]
  },
  {
   "cell_type": "code",
   "execution_count": 1,
   "id": "51ee4f6b",
   "metadata": {},
   "outputs": [],
   "source": [
    "import jax\n",
    "import jaxopt\n",
    "import jax.numpy as jnp\n",
    "import pyreadr\n",
    "import projplot as pjp\n",
    "\n",
    "from IPython.core.interactiveshell import InteractiveShell\n",
    "InteractiveShell.ast_node_interactivity = \"all\""
   ]
  },
  {
   "cell_type": "code",
   "execution_count": 2,
   "id": "daed985c",
   "metadata": {},
   "outputs": [],
   "source": [
    "@jax.jit\n",
    "\n",
    "def indicator(x):\n",
    "    return(jnp.select([x>0,x<=0],[1,0]))\n",
    "\n",
    "def logit(x):\n",
    "    return(jnp.log(x/(1-x)))\n",
    "\n",
    "\n",
    "def expit(x):\n",
    "    return 1/(1+jnp.exp(-x))\n",
    "\n",
    "def exp_smooth(x):\n",
    "    return(jnp.select(\n",
    "    [x >0, x<=0],[jnp.exp(-1/(x+ 0.001)),0]))\n",
    "\n",
    "def g_smooth(x):\n",
    "    return(exp_smooth(x)/(exp_smooth(x) + exp_smooth(1-x)))\n",
    "\n",
    "def sigmoid(x, s):\n",
    "    # x = jnp.array(x)\n",
    "    # a = jnp.array(a)\n",
    "    return 0.5 * (jnp.tanh(x * s / 2) + 1)\n",
    "\n",
    "def dmgmodel_ind(y,alpha,l,c):\n",
    "    return(y*indicator(c*y-l) + alpha*y*indicator(l-c*y))\n",
    "\n",
    "\n",
    "def dmgmodel_py(y,alpha,l,c,s):\n",
    "    #return(y*jax.scipy.stats.norm.cdf(c*y-l) + alpha*y*jax.scipy.stats.norm.cdf(l-c*y))\n",
    "    return(y*sigmoid(c*y-l,s) + alpha*y*sigmoid(l-c*y,s))\n",
    "\n",
    "    #return(y*g_smooth(c*y-l) + alpha*y*g_smooth(l-c*y))\n",
    "\n",
    "def dmgmodel_root_py(y,alpha,l,c,s,ystar):\n",
    "    return(dmgmodel_py(y,alpha,l,c,s) - ystar)\n",
    "\n",
    "\n",
    "\n",
    "def dmginverse_py(ystar,alpha,l,c,s):\n",
    "    ystar = jnp.array(ystar)\n",
    "    bisec = jaxopt.Bisection(\n",
    "        optimality_fun=dmgmodel_root_py,\n",
    "        lower = 0,\n",
    "        upper = 10000,\n",
    "        check_bracket = False)\n",
    "    return(bisec.run(alpha = alpha,l = l, c= c ,s = s,ystar = ystar).params)\n",
    "\n",
    "def dmginvgrad_py(ystar,alpha,l,c,s):\n",
    "    grad_func = jax.grad(dmginverse_py,0)\n",
    "    return(jnp.abs(grad_func(ystar,alpha,l,c,s)))\n",
    "\n",
    "def dmglik_py(ystar,alpha,l,c,s,mu,sigma):\n",
    "    y =  dmginverse_py(ystar,alpha,l,c,s)\n",
    "    return(jax.scipy.stats.norm.logpdf(y,loc = mu,scale = sigma)+ \n",
    "           jnp.log(dmginvgrad_py(ystar,alpha,l,c,s))\n",
    "          )\n",
    "\n",
    "\n",
    "def dmglik_vmap(y_group,alpha,l,c,s,mu,sigma):\n",
    "    y_group = jnp.array(y_group)\n",
    "    lik = jax.vmap(lambda y_group: dmglik_py(ystar = y_group,\n",
    "                                             alpha = alpha,l = l, c= c,s =s,mu = mu, sigma=sigma))(y_group)\n",
    "    return(jnp.sum(lik))\n",
    "\n"
   ]
  },
  {
   "cell_type": "code",
   "execution_count": 106,
   "id": "ffff8bbd",
   "metadata": {},
   "outputs": [],
   "source": [
    "# the orignal sample size \n",
    "#N = 30000\n",
    "N = 300\n",
    "mu = 48\n",
    "sigma = 19\n",
    "l =  32\n",
    "alpha = 0.25\n",
    "c = 0.65\n",
    "s = 10\n",
    "\n",
    "N_marginal = 139\n",
    "\n",
    "\n",
    "\n"
   ]
  },
  {
   "cell_type": "code",
   "execution_count": 7,
   "id": "0002e239",
   "metadata": {},
   "outputs": [
    {
     "data": {
      "text/plain": [
       "Array(2.306413, dtype=float32, weak_type=True)"
      ]
     },
     "execution_count": 7,
     "metadata": {},
     "output_type": "execute_result"
    },
    {
     "data": {
      "text/plain": [
       "Array(0., dtype=float32, weak_type=True)"
      ]
     },
     "execution_count": 7,
     "metadata": {},
     "output_type": "execute_result"
    },
    {
     "data": {
      "text/plain": [
       "Array(0.07713756, dtype=float32, weak_type=True)"
      ]
     },
     "execution_count": 7,
     "metadata": {},
     "output_type": "execute_result"
    },
    {
     "data": {
      "text/plain": [
       "-0.26000000000000156"
      ]
     },
     "execution_count": 7,
     "metadata": {},
     "output_type": "execute_result"
    }
   ],
   "source": [
    "def dmgmodel_py(y,alpha,l,c,s):\n",
    "    #return(y*jax.scipy.stats.norm.cdf(c*y-l) + alpha*y*jax.scipy.stats.norm.cdf(l-c*y))\n",
    "    return(y*g_smooth(c*y-l) + alpha*y*g_smooth(l-c*y))\n",
    "\n",
    "c = .69\n",
    "y_test = 46\n",
    "dmgmodel_py(y_test,alpha = 0.65,l = l,c = 0.69,s= 1)\n",
    "\n",
    "g_smooth(c*y_test-l)\n",
    "g_smooth(l-c*y_test)\n",
    "c*y_test-l"
   ]
  },
  {
   "cell_type": "code",
   "execution_count": 9,
   "id": "265ab696",
   "metadata": {},
   "outputs": [
    {
     "data": {
      "text/plain": [
       "[<matplotlib.lines.Line2D at 0x2a94e8650>]"
      ]
     },
     "execution_count": 9,
     "metadata": {},
     "output_type": "execute_result"
    },
    {
     "data": {
      "text/plain": [
       "[<matplotlib.lines.Line2D at 0x2a974f390>]"
      ]
     },
     "execution_count": 9,
     "metadata": {},
     "output_type": "execute_result"
    },
    {
     "data": {
      "image/png": "[encoded data removed]",
      "text/plain": [
       "<Figure size 640x480 with 1 Axes>"
      ]
     },
     "metadata": {},
     "output_type": "display_data"
    }
   ],
   "source": [
    "# indicator plot \n",
    "import matplotlib.pyplot as plt\n",
    "\n",
    "x_ind = jnp.arange(-10, 10,0.01)\n",
    "\n",
    "#dmginverse_py\n",
    "y_ind1 = jax.vmap(indicator)(x_ind)\n",
    "y_ind2 = jax.vmap(g_smooth)(x_ind)\n",
    "\n",
    "plt.plot(x_ind, y_ind1, label = \"indicator\", linestyle=\"-\")\n",
    "plt.plot(x_ind, y_ind2, label = \"g_smooth\", linestyle=\"-\")"
   ]
  },
  {
   "cell_type": "code",
   "execution_count": null,
   "id": "ede01005",
   "metadata": {},
   "outputs": [],
   "source": [
    "dmgmodel_py(46,alpha = 0.65,l = l,c = 0.69,s= 1)\n",
    "# g_smooth(l-c*47)\n",
    "\n",
    "\n",
    "# alpha*46*g_smooth(l-c*46)"
   ]
  },
  {
   "cell_type": "code",
   "execution_count": 121,
   "id": "52ed6ad8",
   "metadata": {},
   "outputs": [
    {
     "data": {
      "text/plain": [
       "[<matplotlib.lines.Line2D at 0x2b9136ad0>]"
      ]
     },
     "execution_count": 121,
     "metadata": {},
     "output_type": "execute_result"
    },
    {
     "data": {
      "text/plain": [
       "[<matplotlib.lines.Line2D at 0x2b9120910>]"
      ]
     },
     "execution_count": 121,
     "metadata": {},
     "output_type": "execute_result"
    },
    {
     "data": {
      "text/plain": [
       "<matplotlib.lines.Line2D at 0x2b90db090>"
      ]
     },
     "execution_count": 121,
     "metadata": {},
     "output_type": "execute_result"
    },
    {
     "data": {
      "text/plain": [
       "Text(0.5, 0, 'y')"
      ]
     },
     "execution_count": 121,
     "metadata": {},
     "output_type": "execute_result"
    },
    {
     "data": {
      "text/plain": [
       "Text(0, 0.5, 'ystar')"
      ]
     },
     "execution_count": 121,
     "metadata": {},
     "output_type": "execute_result"
    },
    {
     "data": {
      "text/plain": [
       "(0.0, 100.0)"
      ]
     },
     "execution_count": 121,
     "metadata": {},
     "output_type": "execute_result"
    },
    {
     "data": {
      "text/plain": [
       "<matplotlib.legend.Legend at 0x2b793a990>"
      ]
     },
     "execution_count": 121,
     "metadata": {},
     "output_type": "execute_result"
    },
    {
     "data": {
      "image/png": "[encoded data removed]",
      "text/plain": [
       "<Figure size 640x480 with 1 Axes>"
      ]
     },
     "metadata": {},
     "output_type": "display_data"
    }
   ],
   "source": [
    "#plot\n",
    "\n",
    "import matplotlib.pyplot as plt\n",
    "y = jnp.arange(0.01, 99,0.01)\n",
    "\n",
    "#dmginverse_py\n",
    "#ystar1 = jax.vmap(lambda ystar:dmgmodel_ind(ystar,alpha = 0.65,l = l,c = 0.69))(y)\n",
    "ystar1 = jax.vmap(lambda ystar:dmgmodel_py(ystar,alpha = 0.01,l = l,c = 0.69,s= 10))(y)\n",
    "\n",
    "ystar2 = jax.vmap(lambda ystar:dmgmodel_py(ystar,alpha = 0.25,l = l,c = 0.69,s= 10))(y)\n",
    "\n",
    "plt.plot(y, ystar1, label = \"alpha = -50, s = 0.5\", linestyle=\"-\")\n",
    "plt.plot(y, ystar2, label = \"alpha = 0.25, s = 1\", linestyle=\"-\")\n",
    "# plt.axvline(x = l/c, \n",
    "#            color = 'purple',\n",
    "#            label = 'damage threshold',linestyle = \":\")\n",
    "plt.axvline(x =l/0.69, \n",
    "           color = 'purple',\n",
    "           label = 'min of R20R100',linestyle = \":\")\n",
    "plt.xlabel('y')\n",
    "plt.ylabel('ystar')\n",
    "plt.ylim(0, 100)\n",
    "\n",
    "plt.legend()\n",
    "plt.show()"
   ]
  },
  {
   "cell_type": "code",
   "execution_count": 108,
   "id": "a49c08ee",
   "metadata": {},
   "outputs": [],
   "source": [
    "# data generation \n",
    "key = jax.random.PRNGKey(0)\n",
    "subkeys = jax.random.split(key, num=N)\n",
    "\n",
    "y = sigma*jax.random.normal(subkeys[0], shape=(N, )) + mu\n",
    "\n",
    "#y = y[y>0]\n",
    "\n",
    "# g1\n",
    "y_obs_g1  = y[y<l]\n",
    "\n",
    "\n",
    "# g23_star\n",
    "g23 = y[y>l]\n",
    "g23_star = jax.vmap(lambda y: dmgmodel_py(y,alpha,l,c,s))(g23)\n",
    "\n",
    "\n",
    "# g3\n",
    "y_obs_g3 = g23_star[g23_star > l]\n",
    "\n",
    "# g2\n",
    "y_obs_g2 = N - len(y_obs_g1) - len(y_obs_g3)\n",
    "\n",
    "#y_obs_g2 = jnp.shape(y)[0] - len(y_obs_g1) - len(y_obs_g3)\n",
    "\n",
    "# g4, is all marginal data\n",
    "y_obs_g4 = sigma*jax.random.normal(subkeys[0], shape=(N_marginal, )) + mu"
   ]
  },
  {
   "cell_type": "code",
   "execution_count": 116,
   "id": "b27c77a9",
   "metadata": {},
   "outputs": [
    {
     "data": {
      "text/plain": [
       "Array(1648.1841, dtype=float32)"
      ]
     },
     "execution_count": 116,
     "metadata": {},
     "output_type": "execute_result"
    }
   ],
   "source": [
    "# negdmglik_jax(theta0)\n",
    "#dmglik_vmap(y_group = y_obs_g3,alpha = alpha,l = l, c = c,s = s, mu = mu, sigma = sigma)\n",
    "\n",
    "#dmglik_py(y_obs_g3[0][0],alpha,l,c,s,mu,sigma)\n",
    "\n",
    "#dmglik_vmap(y_obs_g3,alpha,l,c,s,mu,sigma)\n",
    "\n",
    "s= 10\n",
    "l = l \n",
    "y_obs_g1 = y_obs_g1\n",
    "y_obs_g2 = y_obs_g2\n",
    "y_obs_g3 = y_obs_g3\n",
    "y_obs_g4 = y_obs_g4\n",
    "@jax.jit\n",
    "def negdmglik_jax(theta):\n",
    "    mu = theta[0]\n",
    "    sigma = theta[1]\n",
    "    alpha = theta[2]\n",
    "    c = theta[3]\n",
    "    lik1 = jnp.sum(jax.scipy.stats.norm.logpdf(y_obs_g1,loc = mu, scale = sigma))\n",
    "    #lik1 = dmglik_vmap(y_group = y_obs_g1,alpha = alpha,l = l, c = c,s = s, mu = mu, sigma = sigma)\n",
    "#     lik2 = y_obs_g2*jnp.log(\n",
    "#         jax.scipy.stats.norm.cdf(dmginverse_py(l,alpha,l,c,s), loc=mu, scale=sigma) - \n",
    "#         jax.scipy.stats.norm.cdf(l, loc=mu, scale=sigma)\n",
    "#     )\n",
    "    lik2 = y_obs_g2*jnp.log(\n",
    "    jax.scipy.stats.norm.cdf(dmginverse_py(l,alpha,l,c,s), loc=mu, scale=sigma) - \n",
    "    jax.scipy.stats.norm.cdf(dmginverse_py(jnp.maximum(0.1,dmgmodel_py(l,alpha,l,c,s)),alpha,l,c,s), loc=mu, scale=sigma)\n",
    "    )\n",
    "    lik3 = dmglik_vmap(y_group = y_obs_g3,alpha = alpha,l = l, c = c,s = s, mu = mu, sigma = sigma)\n",
    "    lik4 = jnp.sum(jax.scipy.stats.norm.logpdf(y_obs_g4,loc = mu, scale = sigma))\n",
    "\n",
    "    return(-lik1 - lik2-lik3-lik4)\n",
    "\n",
    "theta0 = jnp.array([mu,sigma,alpha,c])\n",
    "\n",
    "\n",
    "\n",
    "negdmglik_jax(theta0)"
   ]
  },
  {
   "cell_type": "code",
   "execution_count": 119,
   "id": "254fa5c5",
   "metadata": {},
   "outputs": [
    {
     "data": {
      "text/plain": [
       "(Array([4.7378788e+01, 1.9450691e+01, 1.8430898e-02, 6.4137590e-01],      dtype=float32),\n",
       " BfgsState(iter_num=Array(500, dtype=int32, weak_type=True), value=Array(1646.6508, dtype=float32), grad=Array([ 1.04904175e-05, -8.34278489e-06,  1.67737007e-02,  2.44140625e-03],      dtype=float32), stepsize=Array(1., dtype=float32), error=Array(0.01695045, dtype=float32), H=Array([[ 2.4531561e-01,  1.7651042e-02, -1.0732022e-04, -2.7490527e-05],\n",
       "        [ 1.7651042e-02,  2.7379295e-01,  1.1535692e-04,  4.5405817e-05],\n",
       "        [-1.0732022e-04,  1.1535692e-04,  1.2914302e-07,  2.0053038e-07],\n",
       "        [-2.7490527e-05,  4.5405814e-05,  2.0053038e-07,  1.9980450e-06]],      dtype=float32), aux=None))"
      ]
     },
     "execution_count": 119,
     "metadata": {},
     "output_type": "execute_result"
    },
    {
     "data": {
      "text/plain": [
       "Array([48.  , 19.  ,  0.25,  0.65], dtype=float32)"
      ]
     },
     "execution_count": 119,
     "metadata": {},
     "output_type": "execute_result"
    }
   ],
   "source": [
    "theta0 = jnp.array([mu,sigma,alpha,c])\n",
    "\n",
    "# solver = jaxopt.ScipyMinimize(method = \"Nelder-Mead\",fun=negdmglik_jax)\n",
    "# res = solver.run(theta0)\n",
    "\n",
    "solver = jaxopt.BFGS(fun=negdmglik_jax)\n",
    "res = solver.run(theta0)\n",
    "\n",
    "res.params,res.state\n",
    "theta0"
   ]
  },
  {
   "cell_type": "code",
   "execution_count": 120,
   "id": "39b37210",
   "metadata": {},
   "outputs": [
    {
     "data": {
      "text/plain": [
       "Array([[2.3689394e+01, 7.1068184e+01],\n",
       "       [9.7253456e+00, 2.9176037e+01],\n",
       "       [9.2154490e-03, 2.7646348e-02],\n",
       "       [3.2068795e-01, 9.6206385e-01]], dtype=float32)"
      ]
     },
     "execution_count": 120,
     "metadata": {},
     "output_type": "execute_result"
    },
    {
     "data": {
      "text/plain": [
       "<seaborn.axisgrid.FacetGrid at 0x2b6352c90>"
      ]
     },
     "execution_count": 120,
     "metadata": {},
     "output_type": "execute_result"
    },
    {
     "data": {
      "image/png": "[encoded data removed]",
      "text/plain": [
       "<Figure size 2000x500 with 4 Axes>"
      ]
     },
     "metadata": {},
     "output_type": "display_data"
    }
   ],
   "source": [
    "xsol = res.params\n",
    "xrange = .5\n",
    "theta_upper = xsol  + xrange *jnp.abs(xsol)\n",
    "theta_lower = xsol - xrange * jnp.abs(xsol)\n",
    "theta_rng_trans = jnp.array([theta_lower, theta_upper])\n",
    "\n",
    "#res.params\n",
    "theta_rng = jnp.transpose(theta_rng_trans)\n",
    "theta_rng\n",
    "# plot at the true value theta0\n",
    "pjp.proj_plot(\n",
    "    fun=negdmglik_jax,\n",
    "    x_opt=xsol,\n",
    "    x_lims=theta_rng, \n",
    "    n_pts=100, \n",
    "    opt_vlines=True\n",
    ")"
   ]
  },
  {
   "cell_type": "code",
   "execution_count": 122,
   "id": "042866e9",
   "metadata": {},
   "outputs": [
    {
     "data": {
      "text/plain": [
       "[<matplotlib.lines.Line2D at 0x2b6fd3c10>]"
      ]
     },
     "execution_count": 122,
     "metadata": {},
     "output_type": "execute_result"
    },
    {
     "data": {
      "text/plain": [
       "[<matplotlib.lines.Line2D at 0x2b9118590>]"
      ]
     },
     "execution_count": 122,
     "metadata": {},
     "output_type": "execute_result"
    },
    {
     "data": {
      "text/plain": [
       "<matplotlib.lines.Line2D at 0x2b7d88810>"
      ]
     },
     "execution_count": 122,
     "metadata": {},
     "output_type": "execute_result"
    },
    {
     "data": {
      "text/plain": [
       "Text(0.5, 0, 'ystar')"
      ]
     },
     "execution_count": 122,
     "metadata": {},
     "output_type": "execute_result"
    },
    {
     "data": {
      "text/plain": [
       "Text(0, 0.5, 'y')"
      ]
     },
     "execution_count": 122,
     "metadata": {},
     "output_type": "execute_result"
    },
    {
     "data": {
      "text/plain": [
       "<matplotlib.legend.Legend at 0x2b91205d0>"
      ]
     },
     "execution_count": 122,
     "metadata": {},
     "output_type": "execute_result"
    },
    {
     "data": {
      "image/png": "[encoded data removed]",
      "text/plain": [
       "<Figure size 640x480 with 1 Axes>"
      ]
     },
     "metadata": {},
     "output_type": "display_data"
    }
   ],
   "source": [
    "import matplotlib.pyplot as plt\n",
    "ystar = jnp.arange(0.01, 99,0.01)\n",
    "\n",
    "#dmginverse_py\n",
    "y1 = jax.vmap(lambda ystar:dmginverse_py(ystar,alpha = 0.01,l = l,c = 0.69,s = 10))(ystar)\n",
    "y2 = jax.vmap(lambda ystar:dmginverse_py(ystar,alpha = 0.25,l = l,c = 0.69,s = 10))(ystar)\n",
    "\n",
    "plt.plot(ystar, y1, label = \"alpha = -50, s = 10\", linestyle=\"-\")\n",
    "plt.plot(ystar, y2, label = \"alpha = 0.25, s = 10\", linestyle=\"-\")\n",
    "# plt.axvline(x = l/c, \n",
    "#            color = 'purple',\n",
    "#            label = 'damage threshold',linestyle = \":\")\n",
    "plt.axvline(x = min(y_obs_g3), \n",
    "           color = 'purple',\n",
    "           label = 'min of R20R100',linestyle = \":\")\n",
    "plt.xlabel('ystar')\n",
    "plt.ylabel('y')\n",
    "\n",
    "plt.legend()\n",
    "plt.show()"
   ]
  },
  {
   "cell_type": "code",
   "execution_count": 42,
   "id": "e335e8c7",
   "metadata": {},
   "outputs": [
    {
     "data": {
      "text/plain": [
       "Array(47.218414, dtype=float32)"
      ]
     },
     "execution_count": 42,
     "metadata": {},
     "output_type": "execute_result"
    },
    {
     "data": {
      "text/plain": [
       "Array(40.000008, dtype=float32)"
      ]
     },
     "execution_count": 42,
     "metadata": {},
     "output_type": "execute_result"
    },
    {
     "data": {
      "text/plain": [
       "Array(32.1431, dtype=float32)"
      ]
     },
     "execution_count": 42,
     "metadata": {},
     "output_type": "execute_result"
    }
   ],
   "source": [
    "dmginverse_py(40,alpha = -50,l = l,c = 0.69,s = 10)\n",
    "dmginverse_py(10,alpha = 0.25,l = l,c = 0.69,s = 10)\n",
    "min(y_obs_g3)"
   ]
  },
  {
   "cell_type": "code",
   "execution_count": 41,
   "id": "3887c2d8",
   "metadata": {},
   "outputs": [
    {
     "data": {
      "text/plain": [
       "0.4299999999999997"
      ]
     },
     "execution_count": 41,
     "metadata": {},
     "output_type": "execute_result"
    },
    {
     "data": {
      "text/plain": [
       "Array(0.98661304, dtype=float32, weak_type=True)"
      ]
     },
     "execution_count": 41,
     "metadata": {},
     "output_type": "execute_result"
    },
    {
     "data": {
      "text/plain": [
       "Array(14.911444, dtype=float32, weak_type=True)"
      ]
     },
     "execution_count": 41,
     "metadata": {},
     "output_type": "execute_result"
    }
   ],
   "source": [
    "def dmgmodel_py(y,alpha,l,c,s):\n",
    "    #return(y*jax.scipy.stats.norm.cdf(c*y-l) + alpha*y*jax.scipy.stats.norm.cdf(l-c*y))\n",
    "    return(y*sigmoid(c*y-l,s) + alpha*y*sigmoid(l-c*y,s))\n",
    "\n",
    "y = 47\n",
    "(c*y-l)\n",
    "sigmoid(c*y-l,s)\n",
    "dmgmodel_py(y,alpha = -50,l = l,c = 0.69,s = 10)\n",
    "#dmgmodel_py(46,alpha = 0.25,l = l,c = 0.69,s = 10)"
   ]
  },
  {
   "cell_type": "code",
   "execution_count": null,
   "id": "0bbe10a0",
   "metadata": {},
   "outputs": [],
   "source": [
    "# data generation \n",
    "key = jax.random.PRNGKey(0)\n",
    "key, *subkeys = jax.random.split(key, num=N)\n",
    "\n",
    "\n",
    "\n",
    "# first \n",
    "y = res.params[1]*jax.random.normal(subkeys[0], shape=(N, )) + res.params[0]\n",
    "# g23_star\n",
    "g23 = y[y>l]\n",
    "g23_star = jax.vmap(lambda y: dmgmodel_ind(y,res.params[2],l,res.params[3],res.params[4]))(g23)\n",
    "# g3\n",
    "y_obs_g3_1 = g23_star[g23_star > l]\n",
    "\n",
    "\n",
    "# second \n",
    "y = res.params[1]*jax.random.normal(subkeys[1], shape=(N, )) + res.params[0]\n",
    "# g23_star\n",
    "g23 = y[y>l]\n",
    "g23_star = jax.vmap(lambda y: dmgmodel_ind(y,res.params[2],l,res.params[3],res.params[4]))(g23)\n",
    "# g3\n",
    "y_obs_g3_2 = g23_star[g23_star > l]\n",
    "\n",
    "\n",
    "\n",
    "# third \n",
    "y = res.params[1]*jax.random.normal(subkeys[2], shape=(N, )) + res.params[0]\n",
    "\n",
    "# g23_star\n",
    "g23 = y[y>l]\n",
    "g23_star = jax.vmap(lambda y: dmgmodel_ind(y,res.params[2],l,res.params[3],res.params[4]))(g23)\n",
    "# g3\n",
    "y_obs_g3_3 = g23_star[g23_star > l]\n",
    "\n",
    "\n",
    "\n",
    "# fourth\n",
    "y = res.params[1]*jax.random.normal(subkeys[3], shape=(N, )) + res.params[0]\n",
    "# g23_star\n",
    "g23 = y[y>l]\n",
    "g23_star = jax.vmap(lambda y: dmgmodel_ind(y,res.params[2],l,res.params[3],res.params[4]))(g23)\n",
    "\n",
    "\n",
    "# g3\n",
    "y_obs_g3_4 = g23_star[g23_star > l]"
   ]
  },
  {
   "cell_type": "code",
   "execution_count": null,
   "id": "1dd84717",
   "metadata": {},
   "outputs": [],
   "source": [
    "import seaborn as sns\n",
    "\n",
    "sns.kdeplot(y_obs_g3, label = \"observed data\")\n",
    "\n",
    "sns.kdeplot(y_obs_g3_1, label =\" simulated data 1\",linestyle=\"--\")\n",
    "sns.kdeplot(y_obs_g3_2, label =\" simulated data 2\",linestyle=\"--\")\n",
    "sns.kdeplot(y_obs_g3_3, label =\" simulated data 3\",linestyle = \"--\")\n",
    "\n",
    "plt.legend()\n"
   ]
  },
  {
   "cell_type": "markdown",
   "id": "71d91253",
   "metadata": {},
   "source": [
    "# real data"
   ]
  },
  {
   "cell_type": "code",
   "execution_count": null,
   "id": "a9efe43a",
   "metadata": {},
   "outputs": [],
   "source": [
    "import pandas\n",
    "import numpy as np\n",
    "\n",
    "realdata = pandas.read_csv(\"bending-pl.csv\", header = None)\n",
    "realdata[0] = realdata[0]/1000*6.895\n",
    "\n",
    "l = 4500/1000*6.895\n",
    "# R100id = (realdata[1] == \"R100\")\n",
    "# R100 = jnp.array(realdata[realdata[1] == \"R100\"][0])\n",
    "\n",
    "\n",
    "R100 = jnp.array(realdata[realdata[1] == \"R100\"][0])\n",
    "R20 = jnp.array(realdata[realdata[1] == \"R20\"][0])\n",
    "R20R100 = jnp.array(realdata[realdata[1] == \"R20R100\"][0])\n",
    "\n",
    "g2 = 97\n",
    "\n",
    "\n",
    "\n",
    "s= 2\n",
    "l = l\n",
    "R100 = R100\n",
    "R20 = R20\n",
    "R20R100 = R20R100\n",
    "g2 = 97\n",
    "@jax.jit\n",
    "def negdmglik_jax(theta):\n",
    "    mu = theta[0]\n",
    "    sigma = theta[1]\n",
    "    alpha = theta[2]\n",
    "    #alpha = jnp.exp(theta[2])\n",
    "    c = theta[3]\n",
    "    #s = theta[4]\n",
    "    #s = jnp.exp(theta[4])\n",
    "    #lik1 = jnp.sum(jnp.log(jax.vmap(lambda y: jax.scipy.stats.norm.pdf(y,loc = mu, scale = sigma))(y_obs_g1)))\n",
    "    lik1 = jnp.sum(jax.scipy.stats.norm.logpdf(R20,loc = mu, scale = sigma))\n",
    "    #lik1 = dmglik_vmap(y_group = R20,alpha = alpha,l = l, c = c,s = s, mu = mu, sigma = sigma)\n",
    "    lik2 = g2*jnp.log(\n",
    "        jax.scipy.stats.norm.cdf(dmginverse_py(l,alpha,l,c,s), loc=mu, scale=sigma) - \n",
    "        jax.scipy.stats.norm.cdf(l, loc=mu, scale=sigma)\n",
    "    )\n",
    "    lik3 = dmglik_vmap(y_group = R20R100,alpha = alpha,l = l, c = c,s = s, mu = mu, sigma = sigma)\n",
    "    lik4 = jnp.sum(jax.scipy.stats.norm.logpdf(R100,loc = mu, scale = sigma))\n",
    "\n",
    "    return(-lik1 - lik2-lik3- lik4)\n",
    "\n",
    "#theta0 = jnp.array([mu,sigma,jnp.log(alpha),c,jnp.log(s)])\n",
    "\n",
    "theta0 = jnp.array([mu,sigma,alpha,c])\n",
    "\n",
    "negdmglik_jax(theta0)"
   ]
  },
  {
   "cell_type": "code",
   "execution_count": null,
   "id": "8bca0278",
   "metadata": {},
   "outputs": [],
   "source": [
    "# solver = jaxopt.LBFGS(fun=negdmglik_jax)\n",
    "# res = solver.run(theta0)\n",
    "\n",
    "\n",
    "\n",
    "solver = jaxopt.ScipyMinimize(method = \"Nelder-Mead\",fun=negdmglik_jax, maxiter =1000)\n",
    "res = solver.run(theta0)\n",
    "\n",
    "res.params\n",
    "theta0\n",
    "\n",
    "# Array(1678.6377, dtype=float32)\n",
    "negdmglik_jax(res.params)"
   ]
  },
  {
   "cell_type": "code",
   "execution_count": null,
   "id": "5b19a3ef",
   "metadata": {},
   "outputs": [],
   "source": [
    "xsol = res.params\n",
    "xrange = .5\n",
    "theta_upper = xsol  + xrange *jnp.abs(xsol)\n",
    "theta_lower = xsol - xrange * jnp.abs(xsol)\n",
    "theta_rng_trans = jnp.array([theta_lower, theta_upper])\n",
    "\n",
    "#res.params\n",
    "theta_rng = jnp.transpose(theta_rng_trans)\n",
    "theta_rng\n",
    "# plot at the true value theta0\n",
    "pjp.proj_plot(\n",
    "    fun=negdmglik_jax,\n",
    "    x_opt=xsol,\n",
    "    x_lims=theta_rng, \n",
    "    n_pts=100, \n",
    "    x_names = [\"mu\",\"sigma\",\"alpha\",\"c\"],\n",
    "    opt_vlines=True\n",
    ")"
   ]
  },
  {
   "cell_type": "markdown",
   "id": "c43ad299",
   "metadata": {},
   "source": [
    "## treat s as an estimated parameter"
   ]
  },
  {
   "cell_type": "code",
   "execution_count": null,
   "id": "131d3698",
   "metadata": {},
   "outputs": [],
   "source": [
    "import pandas\n",
    "import numpy as np\n",
    "\n",
    "realdata = pandas.read_csv(\"bending-pl.csv\", header = None)\n",
    "realdata[0] = realdata[0]/1000*6.895\n",
    "\n",
    "l = 4500/1000*6.895\n",
    "# R100id = (realdata[1] == \"R100\")\n",
    "# R100 = jnp.array(realdata[realdata[1] == \"R100\"][0])\n",
    "\n",
    "\n",
    "R100 = jnp.array(realdata[realdata[1] == \"R100\"][0])\n",
    "R20 = jnp.array(realdata[realdata[1] == \"R20\"][0])\n",
    "R20R100 = jnp.array(realdata[realdata[1] == \"R20R100\"][0])\n",
    "\n",
    "g2 = 97\n",
    "\n",
    "\n",
    "\n",
    "#s= 1\n",
    "l = l\n",
    "R100 = R100\n",
    "R20 = R20\n",
    "R20R100 = R20R100\n",
    "g2 = 97\n",
    "@jax.jit\n",
    "def negdmglik_jax_s(theta):\n",
    "    mu = theta[0]\n",
    "    sigma = theta[1]\n",
    "   # alpha = theta[2]\n",
    "    alpha = jnp.exp(theta[2])\n",
    "    c = theta[3]\n",
    "    #s = jnp.exp(theta[4])\n",
    "    s = theta[4]\n",
    "    #lik1 = jnp.sum(jnp.log(jax.vmap(lambda y: jax.scipy.stats.norm.pdf(y,loc = mu, scale = sigma))(y_obs_g1)))\n",
    "    lik1 = jnp.sum(jax.scipy.stats.norm.logpdf(R20,loc = mu, scale = sigma))\n",
    "    lik2 = g2*jnp.log(\n",
    "        jax.scipy.stats.norm.cdf(dmginverse_py(l,alpha,l,c,s), loc=mu, scale=sigma) - \n",
    "        jax.scipy.stats.norm.cdf(l, loc=mu, scale=sigma)\n",
    "    )\n",
    "    lik3 = dmglik_vmap(y_group = R20R100,alpha = alpha,l = l, c = c,s = s, mu = mu, sigma = sigma)\n",
    "    lik4 = jnp.sum(jax.scipy.stats.norm.logpdf(R100,loc = mu, scale = sigma))\n",
    "\n",
    "    return(-lik1 - lik2-lik3- lik4)\n",
    "\n",
    "theta0 = jnp.array([mu,sigma,jnp.log(alpha),c,s])\n",
    "\n",
    "#theta0 = jnp.array([mu,sigma,alpha,c,s])\n",
    "\n",
    "negdmglik_jax_s(theta0)"
   ]
  },
  {
   "cell_type": "code",
   "execution_count": null,
   "id": "81bb8cd3",
   "metadata": {},
   "outputs": [],
   "source": [
    "# solver = jaxopt.LBFGS(fun=negdmglik_jax)\n",
    "# res = solver.run(theta0)\n",
    "\n",
    "\n",
    "\n",
    "solver = jaxopt.ScipyMinimize(method = \"Nelder-Mead\",fun=negdmglik_jax_s, maxiter =1000)\n",
    "res = solver.run(theta0)\n",
    "\n",
    "res.params\n",
    "theta0\n",
    "\n",
    "# Array(1678.6377, dtype=float32)\n",
    "negdmglik_jax_s(res.params)"
   ]
  },
  {
   "cell_type": "code",
   "execution_count": null,
   "id": "593664ec",
   "metadata": {},
   "outputs": [],
   "source": [
    "xsol = res.params\n",
    "xrange = .5\n",
    "theta_upper = xsol  + xrange *jnp.abs(xsol)\n",
    "theta_lower = xsol - xrange * jnp.abs(xsol)\n",
    "theta_rng_trans = jnp.array([theta_lower, theta_upper])\n",
    "\n",
    "#res.params\n",
    "theta_rng = jnp.transpose(theta_rng_trans)\n",
    "theta_rng\n",
    "# plot at the true value theta0\n",
    "pjp.proj_plot(\n",
    "    fun=negdmglik_jax_s,\n",
    "    x_opt=xsol,\n",
    "    x_lims=theta_rng, \n",
    "    n_pts=100, \n",
    "    x_names = [\"mu\",\"sigma\",\"alpha\",\"c\",\"s\"],\n",
    "    opt_vlines=True\n",
    ")"
   ]
  },
  {
   "cell_type": "markdown",
   "id": "1612720d",
   "metadata": {},
   "source": [
    "## damaged y and undamaged ystar"
   ]
  },
  {
   "cell_type": "code",
   "execution_count": null,
   "id": "22423e1e",
   "metadata": {},
   "outputs": [],
   "source": [
    "import matplotlib.pyplot as plt\n",
    "ystar = np.arange(0.01, 99,0.01)\n",
    "\n",
    "#dmginverse_py\n",
    "y1 = jax.vmap(lambda ystar:dmginverse_py(ystar,alpha = -50,l = l,c = 0.69,s = 0.5))(ystar)\n",
    "y2 = jax.vmap(lambda ystar:dmginverse_py(ystar,alpha = 0.25,l = l,c = 0.69,s = 1))(ystar)\n",
    "\n",
    "plt.plot(ystar, y1, label = \"alpha = -50, s = 0.5\", linestyle=\"-\")\n",
    "plt.plot(ystar, y2, label = \"alpha = 0.25, s = 1\", linestyle=\"-\")\n",
    "# plt.axvline(x = l/c, \n",
    "#            color = 'purple',\n",
    "#            label = 'damage threshold',linestyle = \":\")\n",
    "plt.axvline(x = min(R20R100), \n",
    "           color = 'purple',\n",
    "           label = 'min of R20R100',linestyle = \":\")\n",
    "plt.xlabel('ystar')\n",
    "plt.ylabel('y')\n",
    "\n",
    "plt.legend()\n",
    "plt.show()"
   ]
  },
  {
   "cell_type": "code",
   "execution_count": null,
   "id": "db92d320",
   "metadata": {},
   "outputs": [],
   "source": [
    "y = np.arange(0.01, 99,0.01)\n",
    "\n",
    "#dmginverse_py\n",
    "ystar1 = jax.vmap(lambda y:dmgmodel_py(y,alpha = -50,l = l,c = 0.69,s = 0.5))(y)\n",
    "ystar2 = jax.vmap(lambda y:dmgmodel_py(y,alpha = 0.25,l = l,c = 0.69,s = 1))(y)\n",
    "\n",
    "plt.plot(y, ystar1, label = \"alpha = -50, s = 0.5\", linestyle=\"-\")\n",
    "plt.plot(y, ystar2, label = \"alpha = 0.2, s = 1\", linestyle=\"-\")\n",
    "# # plt.axvline(x = l/c, \n",
    "# #            color = 'purple',\n",
    "# #            label = 'damage threshold',linestyle = \":\")\n",
    "# plt.axvline(x = l/.69, \n",
    "#            color = 'purple',\n",
    "#            label = 'damage threshold',linestyle = \":\")\n",
    "plt.xlabel('y')\n",
    "plt.ylabel('ystar')\n",
    "\n",
    "plt.legend()\n",
    "plt.show()\n",
    "\n",
    "\n",
    "\n",
    "\n",
    "y = np.arange(0.01, 99,0.01)\n",
    "\n",
    "#dmginverse_py\n",
    "ystar1 = jax.vmap(lambda y:dmgmodel_py(y,alpha = -50,l = l,c = 0.69,s = 0.5))(y)\n",
    "ystar2 = jax.vmap(lambda y:dmgmodel_py(y,alpha = 0.25,l = l,c = 0.69,s = 1))(y)\n",
    "\n",
    "plt.plot(y, ystar1, label = \"alpha = -50, s = 0.5\", linestyle=\"-\")\n",
    "plt.plot(y, ystar2, label = \"alpha = 0.2, s = 1\", linestyle=\"-\")\n",
    "# # plt.axvline(x = l/c, \n",
    "# #            color = 'purple',\n",
    "# #            label = 'damage threshold',linestyle = \":\")\n",
    "plt.axvline(x = l/.69, \n",
    "           color = 'purple',\n",
    "           label = 'damage threshold',linestyle = \":\")\n",
    "plt.xlabel('y')\n",
    "plt.ylabel('ystar')\n",
    "plt.ylim(0, 100)\n",
    "\n",
    "plt.legend()\n",
    "plt.show()\n"
   ]
  },
  {
   "cell_type": "code",
   "execution_count": null,
   "id": "853335a2",
   "metadata": {},
   "outputs": [],
   "source": [
    "\n",
    "# dmginverse_py(ystar =  50,alpha = 0.2,l = l,c = 0.69,s = 1)\n",
    "# dmginverse_py(ystar =  50,alpha = -50,l = l,c = 0.69,s = .5)\n"
   ]
  },
  {
   "cell_type": "code",
   "execution_count": null,
   "id": "8a37b34d",
   "metadata": {},
   "outputs": [],
   "source": [
    "# import pandas\n",
    "# import numpy as np\n",
    "\n",
    "# realdata = pandas.read_csv(\"bending-pl.csv\", header = None)\n",
    "# realdata[0] = realdata[0]/1000*6.895\n",
    "\n",
    "# l = 4500/1000*6.895\n",
    "# # R100id = (realdata[1] == \"R100\")\n",
    "# # R100 = jnp.array(realdata[realdata[1] == \"R100\"][0])\n",
    "\n",
    "\n",
    "# R100 = jnp.array(realdata[realdata[1] == \"R100\"][0])\n",
    "# R20 = jnp.array(realdata[realdata[1] == \"R20\"][0])\n",
    "# R20R100 = jnp.array(realdata[realdata[1] == \"R20R100\"][0])\n",
    "\n",
    "# g2 = 97\n",
    "\n",
    "\n",
    "\n",
    "# #s= 1\n",
    "# l = l\n",
    "# R100 = R100\n",
    "# R20 = R20\n",
    "# R20R100 = R20R100\n",
    "# g2 = 97\n",
    "# @jax.jit\n",
    "# def negdmglik_jax_s(theta):\n",
    "#     mu = theta[0]\n",
    "#     sigma = theta[1]\n",
    "#     alpha = theta[2]\n",
    "#     alpha = jnp.exp(theta[2])\n",
    "#     c = theta[3]\n",
    "#     #s = jnp.exp(theta[4])\n",
    "#     s = theta[4]\n",
    "#     #lik1 = jnp.sum(jnp.log(jax.vmap(lambda y: jax.scipy.stats.norm.pdf(y,loc = mu, scale = sigma))(y_obs_g1)))\n",
    "#     lik1 = dmglik_vmap(y_group = R20,alpha = alpha,l = l, c = c,s = s, mu = mu, sigma = sigma)\n",
    "#     lik2 = g2*jnp.log(\n",
    "#         jax.scipy.stats.norm.cdf(dmginverse_py(l,alpha,l,c,s), loc=mu, scale=sigma) - \n",
    "#         jax.scipy.stats.norm.cdf(l, loc=mu, scale=sigma)\n",
    "#     )\n",
    "#     lik3 = dmglik_vmap(y_group = R20R100,alpha = alpha,l = l, c = c,s = s, mu = mu, sigma = sigma)\n",
    "#     lik4 = jnp.sum(jax.scipy.stats.norm.logpdf(R100,loc = mu, scale = sigma))\n",
    "\n",
    "#     return(-lik1 - lik2-lik3- lik4)\n",
    "\n",
    "# theta0 = jnp.array([mu,sigma,jnp.log(alpha),c,s])\n",
    "\n",
    "# #theta0 = jnp.array([mu,sigma,alpha,c,s])\n",
    "\n",
    "# negdmglik_jax_s(theta0)"
   ]
  },
  {
   "cell_type": "code",
   "execution_count": null,
   "id": "ed9d4b77",
   "metadata": {},
   "outputs": [],
   "source": [
    "# # solver = jaxopt.LBFGS(fun=negdmglik_jax)\n",
    "# # res = solver.run(theta0)\n",
    "\n",
    "\n",
    "\n",
    "# solver = jaxopt.ScipyMinimize(method = \"Nelder-Mead\",fun=negdmglik_jax_s, maxiter =1000)\n",
    "# res = solver.run(theta0)\n",
    "\n",
    "# res.params\n",
    "# theta0\n",
    "\n",
    "# # Array(1678.6377, dtype=float32)\n",
    "# negdmglik_jax_s(res.params)"
   ]
  },
  {
   "cell_type": "code",
   "execution_count": null,
   "id": "060f68a9",
   "metadata": {},
   "outputs": [],
   "source": [
    "# xsol = res.params\n",
    "# xrange = .5\n",
    "# theta_upper = xsol  + xrange *jnp.abs(xsol)\n",
    "# theta_lower = xsol - xrange * jnp.abs(xsol)\n",
    "# theta_rng_trans = jnp.array([theta_lower, theta_upper])\n",
    "\n",
    "# #res.params\n",
    "# theta_rng = jnp.transpose(theta_rng_trans)\n",
    "# theta_rng\n",
    "# # plot at the true value theta0\n",
    "# pjp.proj_plot(\n",
    "#     fun=negdmglik_jax_s,\n",
    "#     x_opt=xsol,\n",
    "#     x_lims=theta_rng, \n",
    "#     n_pts=100, \n",
    "#     x_names = [\"mu\",\"sigma\",\"alpha\",\"c\",\"s\"],\n",
    "#     opt_vlines=True\n",
    "# )"
   ]
  },
  {
   "cell_type": "markdown",
   "id": "62b876f0",
   "metadata": {},
   "source": [
    "# prediction check"
   ]
  },
  {
   "cell_type": "code",
   "execution_count": null,
   "id": "0509b356",
   "metadata": {},
   "outputs": [],
   "source": [
    "import pandas\n",
    "import numpy as np\n",
    "\n",
    "realdata = pandas.read_csv(\"bending-pl.csv\", header = None)\n",
    "realdata[0] = realdata[0]/1000*6.895\n",
    "\n",
    "l = 4500/1000*6.895\n",
    "# R100id = (realdata[1] == \"R100\")\n",
    "# R100 = jnp.array(realdata[realdata[1] == \"R100\"][0])\n",
    "\n",
    "\n",
    "R100 = jnp.array(realdata[realdata[1] == \"R100\"][0])\n",
    "R20 = jnp.array(realdata[realdata[1] == \"R20\"][0])\n",
    "R20R100 = jnp.array(realdata[realdata[1] == \"R20R100\"][0])\n",
    "\n",
    "g2 = 97\n",
    "\n",
    "\n",
    "\n",
    "#s= 1\n",
    "l = l\n",
    "R100 = R100\n",
    "R20 = R20\n",
    "R20R100 = R20R100\n",
    "g2 = 97\n",
    "@jax.jit\n",
    "def negdmglik_jax_s(theta):\n",
    "    mu = theta[0]\n",
    "    sigma = theta[1]\n",
    "    alpha = theta[2]\n",
    "    #alpha = jnp.exp(theta[2])\n",
    "    c = theta[3]\n",
    "    #s = jnp.exp(theta[4])\n",
    "    s = theta[4]\n",
    "    #lik1 = jnp.sum(jnp.log(jax.vmap(lambda y: jax.scipy.stats.norm.pdf(y,loc = mu, scale = sigma))(y_obs_g1)))\n",
    "    lik1 = jnp.sum(jax.scipy.stats.norm.logpdf(R20,loc = mu, scale = sigma))\n",
    "    lik2 = g2*jnp.log(\n",
    "        jax.scipy.stats.norm.cdf(dmginverse_py(l,alpha,l,c,s), loc=mu, scale=sigma) - \n",
    "        jax.scipy.stats.norm.cdf(l, loc=mu, scale=sigma)\n",
    "    )\n",
    "    lik3 = dmglik_vmap(y_group = R20R100,alpha = alpha,l = l, c = c,s = s, mu = mu, sigma = sigma)\n",
    "    lik4 = jnp.sum(jax.scipy.stats.norm.logpdf(R100,loc = mu, scale = sigma))\n",
    "\n",
    "    return(-lik1 - lik2-lik3- lik4)\n",
    "\n",
    "theta0 = jnp.array([mu,sigma,alpha,c,s])\n",
    "\n",
    "#theta0 = jnp.array([mu,sigma,alpha,c,s])\n",
    "\n",
    "# solver = jaxopt.LBFGS(fun=negdmglik_jax)\n",
    "# res = solver.run(theta0)\n",
    "\n",
    "\n",
    "\n",
    "solver = jaxopt.ScipyMinimize(method = \"Nelder-Mead\",fun=negdmglik_jax_s, maxiter =1000)\n",
    "res = solver.run(theta0)\n",
    "\n",
    "res.params, res.state\n",
    "theta0\n",
    "\n",
    "# Array(1678.6377, dtype=float32)\n",
    "negdmglik_jax_s(res.params)"
   ]
  },
  {
   "cell_type": "code",
   "execution_count": null,
   "id": "cb5c791b",
   "metadata": {},
   "outputs": [],
   "source": [
    "xsol = res.params\n",
    "xrange = .5\n",
    "theta_upper = xsol  + xrange *jnp.abs(xsol)\n",
    "theta_lower = xsol - xrange * jnp.abs(xsol)\n",
    "theta_rng_trans = jnp.array([theta_lower, theta_upper])\n",
    "\n",
    "#res.params\n",
    "theta_rng = jnp.transpose(theta_rng_trans)\n",
    "theta_rng\n",
    "# plot at the true value theta0\n",
    "pjp.proj_plot(\n",
    "    fun=negdmglik_jax_s,\n",
    "    x_opt=xsol,\n",
    "    x_lims=theta_rng, \n",
    "    n_pts=100, \n",
    "    x_names = [\"mu\",\"sigma\",\"alpha\",\"c\",\"s\"],\n",
    "    opt_vlines=True\n",
    ")"
   ]
  },
  {
   "cell_type": "code",
   "execution_count": null,
   "id": "b36ca013",
   "metadata": {},
   "outputs": [],
   "source": [
    "import seaborn as sns\n",
    "\n",
    "sns.distplot(R20R100, hist = False\")\n",
    "plt.legend(prop=\"real data\")\n"
   ]
  },
  {
   "cell_type": "code",
   "execution_count": null,
   "id": "103f32e1",
   "metadata": {},
   "outputs": [],
   "source": [
    "# data generation \n",
    "key = jax.random.PRNGKey(0)\n",
    "key, *subkeys = jax.random.split(key, num=N)\n",
    "\n",
    "\n",
    "\n",
    "# first \n",
    "y = res.params[1]*jax.random.normal(subkeys[0], shape=(N, )) + res.params[0]\n",
    "\n",
    "y = y[y>0]\n",
    "\n",
    "l = 4500/1000*6.895\n",
    "\n",
    "\n",
    "\n",
    "# g23_star\n",
    "g23 = y[y>l]\n",
    "g23_star = jax.vmap(lambda y: dmgmodel_py(y,res.params[2],l,res.params[3],res.params[4]))(g23)\n",
    "\n",
    "\n",
    "# g3\n",
    "y_obs_g3_1 = g23_star[g23_star > l]\n",
    "\n",
    "\n",
    "# second \n",
    "\n",
    "\n",
    "\n",
    "\n",
    "y = res.params[1]*jax.random.normal(subkeys[1], shape=(N, )) + res.params[0]\n",
    "\n",
    "y = y[y>0]\n",
    "\n",
    "l = 4500/1000*6.895\n",
    "\n",
    "\n",
    "\n",
    "# g23_star\n",
    "g23 = y[y>l]\n",
    "g23_star = jax.vmap(lambda y: dmgmodel_py(y,res.params[2],l,res.params[3],res.params[4]))(g23)\n",
    "\n",
    "\n",
    "# g3\n",
    "y_obs_g3_2 = g23_star[g23_star > l]\n",
    "\n",
    "\n",
    "\n",
    "# third \n",
    "y = res.params[1]*jax.random.normal(subkeys[2], shape=(N, )) + res.params[0]\n",
    "\n",
    "y = y[y>0]\n",
    "\n",
    "l = 4500/1000*6.895\n",
    "\n",
    "\n",
    "\n",
    "# g23_star\n",
    "g23 = y[y>l]\n",
    "g23_star = jax.vmap(lambda y: dmgmodel_py(y,res.params[2],l,res.params[3],res.params[4]))(g23)\n",
    "\n",
    "\n",
    "# g3\n",
    "y_obs_g3_3 = g23_star[g23_star > l]\n",
    "\n",
    "\n",
    "# fourth\n",
    "y = res.params[1]*jax.random.normal(subkeys[3], shape=(N, )) + res.params[0]\n",
    "\n",
    "y = y[y>0]\n",
    "\n",
    "l = 4500/1000*6.895\n",
    "\n",
    "\n",
    "\n",
    "# g23_star\n",
    "g23 = y[y>l]\n",
    "g23_star = jax.vmap(lambda y: dmgmodel_py(y,res.params[2],l,res.params[3],res.params[4]))(g23)\n",
    "\n",
    "\n",
    "# g3\n",
    "y_obs_g3_4 = g23_star[g23_star > l]"
   ]
  },
  {
   "cell_type": "code",
   "execution_count": null,
   "id": "f5cc61bc",
   "metadata": {},
   "outputs": [],
   "source": [
    "import seaborn as sns\n",
    "\n",
    "sns.distplot(R20R100, hist = False, label = \"real data\")\n",
    "\n",
    "sns.distplot(y_obs_g3_1, hist = False, label =\" simulated data 1\",kde_kws={'linestyle':'--'})\n",
    "sns.distplot(y_obs_g3_2, hist = False, label =\" simulated data 2\",kde_kws={'linestyle':'--'})\n",
    "sns.distplot(y_obs_g3_3, hist = False, label =\" simulated data 3\",kde_kws={'linestyle':'--'})\n",
    "\n",
    "plt.legend()\n"
   ]
  }
 ],
 "metadata": {
  "kernelspec": {
   "display_name": "Python 3 (ipykernel)",
   "language": "python",
   "name": "python3"
  },
  "language_info": {
   "codemirror_mode": {
    "name": "ipython",
    "version": 3
   },
   "file_extension": ".py",
   "mimetype": "text/x-python",
   "name": "python",
   "nbconvert_exporter": "python",
   "pygments_lexer": "ipython3",
   "version": "3.11.2"
  }
 },
 "nbformat": 4,
 "nbformat_minor": 5
}
