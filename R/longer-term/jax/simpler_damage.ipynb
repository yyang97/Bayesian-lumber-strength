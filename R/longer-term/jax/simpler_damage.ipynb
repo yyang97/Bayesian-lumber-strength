{
 "cells": [
  {
   "cell_type": "code",
   "execution_count": 70,
   "id": "38168ddf-ddbf-4680-b422-cef2ff364448",
   "metadata": {},
   "outputs": [],
   "source": [
    "import jax\n",
    "import jaxopt\n",
    "import jax.numpy as jnp\n",
    "import pyreadr\n",
    "import projplot as pjp\n",
    "import matplotlib.pyplot as plt\n",
    "\n",
    "from IPython.core.interactiveshell import InteractiveShell\n",
    "InteractiveShell.ast_node_interactivity = \"all\""
   ]
  },
  {
   "cell_type": "code",
   "execution_count": 71,
   "id": "f73a77af-d6b3-479b-b434-e26b7b38889b",
   "metadata": {},
   "outputs": [],
   "source": [
    "@jax.jit\n",
    "\n",
    "def dmglik(y_group,mu,sigma,alpha):\n",
    "    return(jnp.log(1/alpha)+jax.scipy.stats.norm.logpdf(y_group/alpha,loc = mu,scale = sigma))\n"
   ]
  },
  {
   "cell_type": "code",
   "execution_count": 72,
   "id": "e325249d-36fd-4ad1-9a85-5a79f3ff6ef6",
   "metadata": {},
   "outputs": [],
   "source": [
    "# the orignal sample size \n",
    "#N = 30000\n",
    "N = 300\n",
    "mu = 48\n",
    "sigma = 19\n",
    "l =  32\n",
    "alpha = 0.5\n",
    "c = 0.65\n",
    "s = 10\n",
    "\n",
    "N_marginal = 139\n",
    "\n",
    "\n",
    "\n"
   ]
  },
  {
   "cell_type": "code",
   "execution_count": 73,
   "id": "3714e107-5fc8-44ab-824c-a399615947b5",
   "metadata": {},
   "outputs": [],
   "source": [
    "# data generation \n",
    "key = jax.random.PRNGKey(0)\n",
    "subkeys = jax.random.split(key, num=N)\n",
    "\n",
    "y = sigma*jax.random.normal(subkeys[0], shape=(N, )) + mu\n",
    "y = y[y>0]\n",
    "\n",
    "y_obs = y*alpha\n",
    "\n",
    "y_group2 = jnp.shape(y_obs[y_obs < l ])[0]\n",
    "y_group3 = y_obs[y_obs > l ]\n",
    "\n"
   ]
  },
  {
   "cell_type": "code",
   "execution_count": 74,
   "id": "d3ddab57-e135-40f7-89e0-9170286a1851",
   "metadata": {},
   "outputs": [
    {
     "data": {
      "text/plain": [
       "Array([32.68747 , 41.369675, 36.047455, 49.0251  , 32.21092 , 40.542862,\n",
       "       34.154514, 37.12065 , 39.28782 , 41.29133 , 36.937923, 32.17774 ,\n",
       "       33.052917, 32.955643, 42.48758 , 35.40197 , 35.477634, 37.363426,\n",
       "       32.540283, 33.427814, 40.929207, 39.896763, 33.071266, 38.43323 ,\n",
       "       35.279457, 35.650482, 40.379627, 46.596413, 35.281937, 32.47872 ,\n",
       "       32.458984, 40.513783, 32.264565, 47.081482, 33.54442 , 34.780727,\n",
       "       38.314682, 36.658176, 45.827972, 46.998764, 35.36315 , 34.336327,\n",
       "       33.40924 , 37.381207, 38.00228 , 34.552315, 41.873806, 37.50255 ,\n",
       "       34.81786 , 35.832096, 32.84271 , 42.08113 , 46.022118, 33.99768 ,\n",
       "       41.608734, 36.96572 , 32.4138  , 36.25449 , 32.706394, 32.18146 ],      dtype=float32)"
      ]
     },
     "execution_count": 74,
     "metadata": {},
     "output_type": "execute_result"
    }
   ],
   "source": [
    "y_group3 "
   ]
  },
  {
   "cell_type": "code",
   "execution_count": 75,
   "id": "23953371-1f8c-4ded-b09c-ab818136202e",
   "metadata": {},
   "outputs": [
    {
     "data": {
      "text/plain": [
       "Array(309.91583, dtype=float32)"
      ]
     },
     "execution_count": 75,
     "metadata": {},
     "output_type": "execute_result"
    }
   ],
   "source": [
    "\n",
    "@jax.jit\n",
    "def negdmglik_jax(alpha):\n",
    "    lik2 = y_group2*jnp.log(\n",
    "        jax.scipy.stats.norm.cdf(l/alpha, loc=mu, scale=sigma) - \n",
    "        jax.scipy.stats.norm.cdf(1e-6/alpha, loc=mu, scale=sigma)\n",
    "        )\n",
    "    lik3 = jnp.sum(jax.vmap(lambda y_obs: dmglik(y_obs,mu,sigma,alpha))(y_group3))\n",
    "\n",
    "    return(-lik2-lik3)\n",
    "\n",
    "negdmglik_jax(alpha)"
   ]
  },
  {
   "cell_type": "code",
   "execution_count": 76,
   "id": "cebda51e-a4f8-43e1-b700-64240dd8610a",
   "metadata": {},
   "outputs": [
    {
     "data": {
      "text/plain": [
       "(Array(0.4988281, dtype=float32),\n",
       " ScipyMinimizeInfo(fun_val=Array(309.90942, dtype=float32), success=True, status=0, iter_num=9, hess_inv=None))"
      ]
     },
     "execution_count": 76,
     "metadata": {},
     "output_type": "execute_result"
    },
    {
     "data": {
      "text/plain": [
       "0.5"
      ]
     },
     "execution_count": 76,
     "metadata": {},
     "output_type": "execute_result"
    }
   ],
   "source": [
    "\n",
    "\n",
    "solver = jaxopt.ScipyMinimize(method = \"Nelder-Mead\",fun=negdmglik_jax)\n",
    "res = solver.run(alpha)\n",
    "\n",
    "# solver = jaxopt.BFGS(fun=negdmglik_jax)\n",
    "# res = solver.run(theta0)\n",
    "\n",
    "res.params,res.state\n",
    "alpha"
   ]
  },
  {
   "cell_type": "code",
   "execution_count": 77,
   "id": "ec0679ca-a939-425b-8e65-925ccc2651d7",
   "metadata": {},
   "outputs": [
    {
     "data": {
      "text/plain": [
       "Array(8982.934, dtype=float32)"
      ]
     },
     "execution_count": 77,
     "metadata": {},
     "output_type": "execute_result"
    },
    {
     "data": {
      "text/plain": [
       "Array(1760.2118, dtype=float32)"
      ]
     },
     "execution_count": 77,
     "metadata": {},
     "output_type": "execute_result"
    },
    {
     "data": {
      "text/plain": [
       "Array(40966.543, dtype=float32)"
      ]
     },
     "execution_count": 77,
     "metadata": {},
     "output_type": "execute_result"
    }
   ],
   "source": [
    " negdmglik_jax(.1)\n",
    " negdmglik_jax(.2)\n",
    " negdmglik_jax(.05)\n"
   ]
  },
  {
   "cell_type": "code",
   "execution_count": 78,
   "id": "c11c8c63-a13f-462f-9c46-706684c920e8",
   "metadata": {},
   "outputs": [
    {
     "data": {
      "text/plain": [
       "Array(-254.66708, dtype=float32)"
      ]
     },
     "execution_count": 78,
     "metadata": {},
     "output_type": "execute_result"
    }
   ],
   "source": [
    "jnp.sum(jax.vmap(lambda y_obs: dmglik(y_obs,mu,sigma,alpha))(y_group3))"
   ]
  },
  {
   "cell_type": "code",
   "execution_count": 79,
   "id": "3501be4e-89f1-40e1-98bd-16df121bca17",
   "metadata": {},
   "outputs": [
    {
     "data": {
      "text/plain": [
       "[<matplotlib.lines.Line2D at 0x14daf9e90>]"
      ]
     },
     "execution_count": 79,
     "metadata": {},
     "output_type": "execute_result"
    },
    {
     "data": {
      "image/png": "[encoded data removed]",
      "text/plain": [
       "<Figure size 640x480 with 1 Axes>"
      ]
     },
     "metadata": {},
     "output_type": "display_data"
    }
   ],
   "source": [
    "alpha_seq = jnp.arange(alpha -0.1, alpha+0.1,0.01)\n",
    "lik_seq = jax.vmap(negdmglik_jax)(alpha_seq )\n",
    "plt.plot(alpha_seq,lik_seq)"
   ]
  }
 ],
 "metadata": {
  "kernelspec": {
   "display_name": "Python 3 (ipykernel)",
   "language": "python",
   "name": "python3"
  },
  "language_info": {
   "codemirror_mode": {
    "name": "ipython",
    "version": 3
   },
   "file_extension": ".py",
   "mimetype": "text/x-python",
   "name": "python",
   "nbconvert_exporter": "python",
   "pygments_lexer": "ipython3",
   "version": "3.11.4"
  }
 },
 "nbformat": 4,
 "nbformat_minor": 5
}
