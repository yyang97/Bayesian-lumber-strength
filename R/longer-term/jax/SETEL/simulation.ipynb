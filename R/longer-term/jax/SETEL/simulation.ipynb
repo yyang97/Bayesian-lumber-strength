{
 "cells": [
  {
   "cell_type": "code",
   "execution_count": null,
   "id": "1b041b13",
   "metadata": {},
   "outputs": [],
   "source": [
    "import jax\n",
    "import jax.scipy as jsp\n",
    "import jax.numpy as jnp\n",
    "from jax import lax, jit\n",
    "import jaxopt\n",
    "import relax as rx\n",
    "import relax.logel\n",
    "import relax.newton\n",
    "import relax.logstar\n",
    "import ott\n",
    "import logetel"
   ]
  },
  {
   "cell_type": "code",
   "execution_count": null,
   "id": "dab9a1d2",
   "metadata": {},
   "outputs": [],
   "source": [
    "@jax.jit\n",
    "\n",
    "\n",
    "def dmg_ind(y,alpha,c,l):\n",
    "    return jnp.where(c*y > l, y, alpha*y)\n",
    "\n",
    "def dmg_trans(eps,theta):\n",
    "    mu = theta[0]\n",
    "    sigma = theta[1]\n",
    "    c = theta[2]\n",
    "    alpha = theta[4]\n",
    "    y = jax.random.normal(key, shape=(N, 1))\n",
    "    y = mu + sigma * y\n",
    "    g1 = jnp.where(y < l, y,0)\n",
    "    "
   ]
  }
 ],
 "metadata": {
  "kernelspec": {
   "display_name": "Python 3 (ipykernel)",
   "language": "python",
   "name": "python3"
  },
  "language_info": {
   "codemirror_mode": {
    "name": "ipython",
    "version": 3
   },
   "file_extension": ".py",
   "mimetype": "text/x-python",
   "name": "python",
   "nbconvert_exporter": "python",
   "pygments_lexer": "ipython3",
   "version": "3.11.2"
  }
 },
 "nbformat": 4,
 "nbformat_minor": 5
}
