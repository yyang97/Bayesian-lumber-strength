{
 "cells": [
  {
   "cell_type": "markdown",
   "id": "94de9959-113f-495d-bee6-7a113cbc23c9",
   "metadata": {},
   "source": [
    "Here, we only have two groups:\n",
    "- Group2: the censored parts, for which we only know the number. $0 < y^* < l$.\n",
    "- Group3: the observed parts, $y^* > l$."
   ]
  },
  {
   "cell_type": "code",
   "execution_count": 41,
   "id": "d09ba0c9-6c2e-4b0a-858b-1c971db6fb6b",
   "metadata": {},
   "outputs": [],
   "source": [
    "import jax\n",
    "import jaxopt\n",
    "import jax.numpy as jnp\n",
    "import pyreadr\n",
    "import projplot as pjp\n",
    "import matplotlib.pyplot as plt\n",
    "\n",
    "from IPython.core.interactiveshell import InteractiveShell\n",
    "InteractiveShell.ast_node_interactivity = \"all\""
   ]
  },
  {
   "cell_type": "code",
   "execution_count": 42,
   "id": "f273f0c2-855d-46d0-8366-c76a81e79b77",
   "metadata": {},
   "outputs": [],
   "source": [
    "@jax.jit\n",
    "\n",
    "def indicator(x):\n",
    "    return(jnp.select([x>0,x<=0],[1,0]))\n",
    "\n",
    "def logit(x):\n",
    "    return(jnp.log(x/(1-x)))\n",
    "\n",
    "\n",
    "def expit(x):\n",
    "    return 1/(1+jnp.exp(-x))\n",
    "\n",
    "\n",
    "def sigmoid(x, s):\n",
    "    # x = jnp.array(x)\n",
    "    # a = jnp.array(a)\n",
    "    return 0.5 * (jnp.tanh(x * s / 2) + 1)\n",
    "\n",
    "def dmgmodel_ind(y,alpha,l,c):\n",
    "    return(y*indicator(c*y-l) + alpha*y*indicator(l-c*y))\n",
    "\n",
    "\n",
    "def dmgmodel_py(y,alpha,l,c,s):\n",
    "    #return(y*jax.scipy.stats.norm.cdf(c*y-l) + alpha*y*jax.scipy.stats.norm.cdf(l-c*y))\n",
    "    return(y*sigmoid(c*y-l,s) + alpha*y*sigmoid(l-c*y,s))\n",
    "\n",
    "    #return(y*g_smooth(c*y-l) + alpha*y*g_smooth(l-c*y))\n",
    "\n",
    "def dmgmodel_root_py(y,alpha,l,c,s,ystar):\n",
    "    return(dmgmodel_py(y,alpha,l,c,s) - ystar)\n",
    "\n",
    "\n",
    "\n",
    "def dmginverse_py(ystar,alpha,l,c,s):\n",
    "    ystar = jnp.array(ystar)\n",
    "    bisec = jaxopt.Bisection(\n",
    "        optimality_fun=dmgmodel_root_py,\n",
    "        lower = 0,\n",
    "        upper = 10000,\n",
    "        check_bracket = False)\n",
    "    return(bisec.run(alpha = alpha,l = l, c= c ,s = s,ystar = ystar).params)\n",
    "\n",
    "def dmginvgrad_py(ystar,alpha,l,c,s):\n",
    "    grad_func = jax.grad(dmginverse_py,0)\n",
    "    return(jnp.abs(grad_func(ystar,alpha,l,c,s)))\n",
    "\n",
    "def dmglik_py(ystar,alpha,l,c,s,mu,sigma):\n",
    "    y =  dmginverse_py(ystar,alpha,l,c,s)\n",
    "    return(jax.scipy.stats.norm.logpdf(y,loc = mu,scale = sigma)+ \n",
    "           jnp.log(dmginvgrad_py(ystar,alpha,l,c,s))\n",
    "          )\n",
    "\n",
    "\n",
    "def dmglik_vmap(y_group,alpha,l,c,s,mu,sigma):\n",
    "    y_group = jnp.array(y_group)\n",
    "    lik = jax.vmap(lambda y_group: dmglik_py(ystar = y_group,\n",
    "                                             alpha = alpha,l = l, c= c,s =s,mu = mu, sigma=sigma))(y_group)\n",
    "    return(jnp.sum(lik))\n",
    "\n"
   ]
  },
  {
   "cell_type": "code",
   "execution_count": 43,
   "id": "f980649d-c146-4b98-8147-f3f94b0fccef",
   "metadata": {},
   "outputs": [],
   "source": [
    "# the orignal sample size \n",
    "#N = 30000\n",
    "N = 300\n",
    "mu = 48\n",
    "sigma = 19\n",
    "l =  32\n",
    "alpha = 0.25\n",
    "c = 0.65\n",
    "s = 10\n",
    "\n",
    "N_marginal = 139\n",
    "\n",
    "\n",
    "\n"
   ]
  },
  {
   "cell_type": "code",
   "execution_count": 44,
   "id": "2568d433-7702-426d-b4d7-d8db7c42ca84",
   "metadata": {},
   "outputs": [],
   "source": [
    "# data generation \n",
    "key = jax.random.PRNGKey(0)\n",
    "subkeys = jax.random.split(key, num=N)\n",
    "\n",
    "y = sigma*jax.random.normal(subkeys[1], shape=(N, )) + mu\n",
    "y = y[y>0]\n",
    "\n",
    "y_obs = jax.vmap(lambda y: dmgmodel_py(y,alpha,l,c,s))(y)\n",
    "\n",
    "y_group2 = jnp.shape(y_obs[y_obs < l ])[0]\n",
    "y_group3 = y_obs[y_obs > l ]\n",
    "\n"
   ]
  },
  {
   "cell_type": "code",
   "execution_count": 52,
   "id": "296d6bf3-2734-4865-a4e0-4521cfa400bc",
   "metadata": {},
   "outputs": [
    {
     "data": {
      "text/plain": [
       "Array(nan, dtype=float32)"
      ]
     },
     "execution_count": 52,
     "metadata": {},
     "output_type": "execute_result"
    }
   ],
   "source": [
    "s= s\n",
    "l = l \n",
    "\n",
    "@jax.jit\n",
    "def negdmglik_jax(theta):\n",
    "    mu = 48\n",
    "    sigma = 19\n",
    "    alpha = theta\n",
    "    c = 0.65\n",
    "    lik2 = y_group2*jnp.log(\n",
    "        jax.scipy.stats.norm.cdf(dmginverse_py(l,alpha,l,c,s), loc=mu, scale=sigma) - \n",
    "        jax.scipy.stats.norm.cdf(dmginverse_py(1e-6,alpha,l,c,s), loc=mu, scale=sigma)\n",
    "        )\n",
    "    lik3 = dmglik_vmap(y_group = y_group3,alpha = alpha,l = l, c = c,s = s, mu = mu, sigma = sigma)\n",
    "\n",
    "    return(-lik2-lik3)\n",
    "\n",
    "#theta0 = jnp.array([alpha])\n",
    "negdmglik_jax(alpha)"
   ]
  },
  {
   "cell_type": "code",
   "execution_count": 51,
   "id": "4ef8d3f2-8aaa-428a-8a99-380b0377069d",
   "metadata": {},
   "outputs": [
    {
     "data": {
      "text/plain": [
       "Array(1., dtype=float32)"
      ]
     },
     "execution_count": 51,
     "metadata": {},
     "output_type": "execute_result"
    }
   ],
   "source": [
    "jax.scipy.stats.norm.cdf(dmginverse_py(0,alpha,l,c,s), loc=mu, scale=sigma)"
   ]
  },
  {
   "cell_type": "code",
   "execution_count": 46,
   "id": "b9486b10-ebd4-46e5-a428-c0d76c354d7d",
   "metadata": {},
   "outputs": [
    {
     "data": {
      "text/plain": [
       "(Array(0.37978515, dtype=float32),\n",
       " ScipyMinimizeInfo(fun_val=Array(745.86914, dtype=float32), success=True, status=0, iter_num=13, hess_inv=None))"
      ]
     },
     "execution_count": 46,
     "metadata": {},
     "output_type": "execute_result"
    },
    {
     "data": {
      "text/plain": [
       "Array([0.25], dtype=float32)"
      ]
     },
     "execution_count": 46,
     "metadata": {},
     "output_type": "execute_result"
    }
   ],
   "source": [
    "\n",
    "\n",
    "solver = jaxopt.ScipyMinimize(method = \"Nelder-Mead\",fun=negdmglik_jax)\n",
    "res = solver.run(alpha)\n",
    "\n",
    "# solver = jaxopt.BFGS(fun=negdmglik_jax)\n",
    "# res = solver.run(theta0)\n",
    "\n",
    "res.params,res.state\n",
    "theta0"
   ]
  },
  {
   "cell_type": "code",
   "execution_count": 47,
   "id": "548b1ecf-b1b8-4ebc-9020-e3b1163b9031",
   "metadata": {},
   "outputs": [
    {
     "data": {
      "text/plain": [
       "[<matplotlib.lines.Line2D at 0x14ad9f410>]"
      ]
     },
     "execution_count": 47,
     "metadata": {},
     "output_type": "execute_result"
    },
    {
     "data": {
      "image/png": "[encoded data removed]",
      "text/plain": [
       "<Figure size 640x480 with 1 Axes>"
      ]
     },
     "metadata": {},
     "output_type": "display_data"
    }
   ],
   "source": [
    "alpha_seq = jnp.arange(0.01, 1.5,0.01)\n",
    "lik_seq = jax.vmap(negdmglik_jax)(alpha_seq )\n",
    "plt.plot(alpha_seq,lik_seq)"
   ]
  },
  {
   "cell_type": "code",
   "execution_count": 48,
   "id": "7a3e63c9-064f-460a-93a5-ad875585b0bb",
   "metadata": {},
   "outputs": [],
   "source": [
    "# xsol = res.params\n",
    "# xrange = .5\n",
    "# theta_upper = xsol  + xrange *jnp.abs(xsol)\n",
    "# theta_lower = xsol - xrange * jnp.abs(xsol)\n",
    "# theta_rng_trans = jnp.array([theta_lower, theta_upper])\n",
    "\n",
    "# #res.params\n",
    "# theta_rng = jnp.transpose(theta_rng_trans)\n",
    "# theta_rng\n",
    "# # plot at the true value theta0\n",
    "# pjp.proj_plot(\n",
    "#     fun=negdmglik_jax,\n",
    "#     x_opt=xsol,\n",
    "#     x_lims=theta_rng, \n",
    "#     n_pts=100, \n",
    "#     x_names= ['mu','sigma','alpha'],\n",
    "#     opt_vlines=True\n",
    "# )"
   ]
  }
 ],
 "metadata": {
  "kernelspec": {
   "display_name": "Python 3 (ipykernel)",
   "language": "python",
   "name": "python3"
  },
  "language_info": {
   "codemirror_mode": {
    "name": "ipython",
    "version": 3
   },
   "file_extension": ".py",
   "mimetype": "text/x-python",
   "name": "python",
   "nbconvert_exporter": "python",
   "pygments_lexer": "ipython3",
   "version": "3.11.4"
  }
 },
 "nbformat": 4,
 "nbformat_minor": 5
}
