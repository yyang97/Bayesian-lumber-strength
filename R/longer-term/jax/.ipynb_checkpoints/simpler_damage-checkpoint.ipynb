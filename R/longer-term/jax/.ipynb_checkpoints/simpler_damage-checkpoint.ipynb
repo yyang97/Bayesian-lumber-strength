{
 "cells": [
  {
   "cell_type": "code",
   "execution_count": 1,
   "id": "38168ddf-ddbf-4680-b422-cef2ff364448",
   "metadata": {},
   "outputs": [],
   "source": [
    "import jax\n",
    "import jaxopt\n",
    "import jax.numpy as jnp\n",
    "import pyreadr\n",
    "import projplot as pjp\n",
    "import matplotlib.pyplot as plt\n",
    "\n",
    "from IPython.core.interactiveshell import InteractiveShell\n",
    "InteractiveShell.ast_node_interactivity = \"all\""
   ]
  },
  {
   "cell_type": "code",
   "execution_count": 32,
   "id": "f73a77af-d6b3-479b-b434-e26b7b38889b",
   "metadata": {},
   "outputs": [],
   "source": [
    "@jax.jit\n",
    "\n",
    "def dmglik(y_group,mu,sigma,alpha):\n",
    "    return(jnp.log(1/alpha)+jax.scipy.stats.norm.logpdf(y_group/alpha,loc = mu,scale = sigma))\n"
   ]
  },
  {
   "cell_type": "code",
   "execution_count": 60,
   "id": "e325249d-36fd-4ad1-9a85-5a79f3ff6ef6",
   "metadata": {},
   "outputs": [],
   "source": [
    "# the orignal sample size \n",
    "#N = 30000\n",
    "N = 300\n",
    "mu = 48\n",
    "sigma = 19\n",
    "l =  32\n",
    "alpha = 0.5\n",
    "c = 0.65\n",
    "s = 10\n",
    "\n",
    "N_marginal = 139\n",
    "\n",
    "\n",
    "\n"
   ]
  },
  {
   "cell_type": "code",
   "execution_count": 61,
   "id": "3714e107-5fc8-44ab-824c-a399615947b5",
   "metadata": {},
   "outputs": [],
   "source": [
    "# data generation \n",
    "key = jax.random.PRNGKey(0)\n",
    "subkeys = jax.random.split(key, num=N)\n",
    "\n",
    "y = sigma*jax.random.normal(subkeys[1], shape=(N, )) + mu\n",
    "y = y[y>0]\n",
    "\n",
    "y_obs = y*alpha\n",
    "\n",
    "y_group2 = jnp.shape(y_obs[y_obs < l ])[0]\n",
    "y_group3 = y_obs[y_obs > l ]\n",
    "\n"
   ]
  },
  {
   "cell_type": "code",
   "execution_count": 62,
   "id": "d3ddab57-e135-40f7-89e0-9170286a1851",
   "metadata": {},
   "outputs": [
    {
     "data": {
      "text/plain": [
       "Array([46.62017 , 41.687805, 32.34535 , 34.593365, 33.523094, 34.49453 ,\n",
       "       43.293465, 42.689064, 38.41149 , 33.689846, 32.741173, 32.46051 ,\n",
       "       39.487427, 37.951363, 36.128296, 38.162647, 37.283497, 34.742058,\n",
       "       46.161495, 36.98392 , 35.788765, 33.953842, 36.01658 , 32.356686,\n",
       "       33.538048, 46.45064 , 50.87767 , 33.640427, 34.752007, 44.577553,\n",
       "       39.42557 , 34.045803, 42.4244  , 35.35257 , 34.160385, 34.370308,\n",
       "       32.547436, 41.890568, 43.96222 , 32.443893, 35.899773, 42.487923,\n",
       "       41.292995, 41.627136, 35.79715 , 39.184887, 32.50782 , 41.831787,\n",
       "       38.475277], dtype=float32)"
      ]
     },
     "execution_count": 62,
     "metadata": {},
     "output_type": "execute_result"
    }
   ],
   "source": [
    "y_group3 "
   ]
  },
  {
   "cell_type": "code",
   "execution_count": 63,
   "id": "23953371-1f8c-4ded-b09c-ab818136202e",
   "metadata": {},
   "outputs": [
    {
     "data": {
      "text/plain": [
       "Array(270.82803, dtype=float32)"
      ]
     },
     "execution_count": 63,
     "metadata": {},
     "output_type": "execute_result"
    }
   ],
   "source": [
    "\n",
    "@jax.jit\n",
    "def negdmglik_jax(alpha):\n",
    "    lik2 = y_group2*jnp.log(\n",
    "        jax.scipy.stats.norm.cdf(l/alpha, loc=mu, scale=sigma) - \n",
    "        jax.scipy.stats.norm.cdf(1e-6/alpha, loc=mu, scale=sigma)\n",
    "        )\n",
    "    lik3 = jnp.sum(jax.vmap(lambda y_obs: dmglik(y_obs,mu,sigma,alpha))(y_group3))\n",
    "\n",
    "    return(-lik2-lik3)\n",
    "\n",
    "negdmglik_jax(alpha)"
   ]
  },
  {
   "cell_type": "code",
   "execution_count": 54,
   "id": "cebda51e-a4f8-43e1-b700-64240dd8610a",
   "metadata": {},
   "outputs": [
    {
     "data": {
      "text/plain": [
       "(Array(0.48789063, dtype=float32),\n",
       " ScipyMinimizeInfo(fun_val=Array(270.2256, dtype=float32), success=True, status=0, iter_num=9, hess_inv=None))"
      ]
     },
     "execution_count": 54,
     "metadata": {},
     "output_type": "execute_result"
    },
    {
     "data": {
      "text/plain": [
       "0.5"
      ]
     },
     "execution_count": 54,
     "metadata": {},
     "output_type": "execute_result"
    }
   ],
   "source": [
    "\n",
    "\n",
    "solver = jaxopt.ScipyMinimize(method = \"Nelder-Mead\",fun=negdmglik_jax)\n",
    "res = solver.run(alpha)\n",
    "\n",
    "# solver = jaxopt.BFGS(fun=negdmglik_jax)\n",
    "# res = solver.run(theta0)\n",
    "\n",
    "res.params,res.state\n",
    "alpha"
   ]
  },
  {
   "cell_type": "code",
   "execution_count": 55,
   "id": "ec0679ca-a939-425b-8e65-925ccc2651d7",
   "metadata": {},
   "outputs": [
    {
     "data": {
      "text/plain": [
       "Array(7640.17, dtype=float32)"
      ]
     },
     "execution_count": 55,
     "metadata": {},
     "output_type": "execute_result"
    },
    {
     "data": {
      "text/plain": [
       "Array(1503.0598, dtype=float32)"
      ]
     },
     "execution_count": 55,
     "metadata": {},
     "output_type": "execute_result"
    },
    {
     "data": {
      "text/plain": [
       "Array(34757.16, dtype=float32)"
      ]
     },
     "execution_count": 55,
     "metadata": {},
     "output_type": "execute_result"
    }
   ],
   "source": [
    " negdmglik_jax(.1)\n",
    " negdmglik_jax(.2)\n",
    " negdmglik_jax(.05)\n"
   ]
  },
  {
   "cell_type": "code",
   "execution_count": 64,
   "id": "c11c8c63-a13f-462f-9c46-706684c920e8",
   "metadata": {},
   "outputs": [
    {
     "data": {
      "text/plain": [
       "Array(-213.27725, dtype=float32)"
      ]
     },
     "execution_count": 64,
     "metadata": {},
     "output_type": "execute_result"
    }
   ],
   "source": [
    "jnp.sum(jax.vmap(lambda y_obs: dmglik(y_obs,mu,sigma,alpha))(y_group3))"
   ]
  },
  {
   "cell_type": "code",
   "execution_count": 67,
   "id": "3501be4e-89f1-40e1-98bd-16df121bca17",
   "metadata": {},
   "outputs": [
    {
     "data": {
      "text/plain": [
       "[<matplotlib.lines.Line2D at 0x14dd38d50>]"
      ]
     },
     "execution_count": 67,
     "metadata": {},
     "output_type": "execute_result"
    },
    {
     "data": {
      "image/png": "[encoded data removed]",
      "text/plain": [
       "<Figure size 640x480 with 1 Axes>"
      ]
     },
     "metadata": {},
     "output_type": "display_data"
    }
   ],
   "source": [
    "alpha_seq = jnp.arange(alpha -0.1, alpha+0.1,0.01)\n",
    "lik_seq = jax.vmap(negdmglik_jax)(alpha_seq )\n",
    "plt.plot(alpha_seq,lik_seq)"
   ]
  }
 ],
 "metadata": {
  "kernelspec": {
   "display_name": "Python 3 (ipykernel)",
   "language": "python",
   "name": "python3"
  },
  "language_info": {
   "codemirror_mode": {
    "name": "ipython",
    "version": 3
   },
   "file_extension": ".py",
   "mimetype": "text/x-python",
   "name": "python",
   "nbconvert_exporter": "python",
   "pygments_lexer": "ipython3",
   "version": "3.11.4"
  }
 },
 "nbformat": 4,
 "nbformat_minor": 5
}
